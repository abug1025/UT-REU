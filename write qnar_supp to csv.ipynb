{
 "cells": [
  {
   "cell_type": "code",
   "execution_count": null,
   "id": "3b84a6eb",
   "metadata": {},
   "outputs": [],
   "source": [
    "pip install tabula-py"
   ]
  },
  {
   "cell_type": "code",
   "execution_count": 2,
   "id": "91d8cbe2",
   "metadata": {},
   "outputs": [],
   "source": [
    "import tabula"
   ]
  },
  {
   "cell_type": "code",
   "execution_count": 26,
   "id": "e2e98c60",
   "metadata": {},
   "outputs": [],
   "source": [
    "file = \"qnar supp info.pdf\"\n",
    "table = tabula.read_pdf(file,pages='4,5')\n",
    "df4 = table[0]\n",
    "df5 = table[1]"
   ]
  },
  {
   "cell_type": "code",
   "execution_count": 41,
   "id": "58d6e6f8",
   "metadata": {},
   "outputs": [],
   "source": [
    "df4_n = df4.drop(labels=[0,1,2,3,3], axis=0)"
   ]
  },
  {
   "cell_type": "code",
   "execution_count": 47,
   "id": "cd79079e",
   "metadata": {},
   "outputs": [],
   "source": [
    "df4_n.to_csv(r'/Users/alee224/Desktop/BME CuRES Cancer/Research/qnar_supp_data.csv', index = False)"
   ]
  },
  {
   "cell_type": "code",
   "execution_count": 48,
   "id": "0d1625c3",
   "metadata": {},
   "outputs": [],
   "source": [
    "df5.to_csv(r'/Users/alee224/Desktop/BME CuRES Cancer/Research/qnar_supp_data.csv', mode='a', header=True, index = False)"
   ]
  }
 ],
 "metadata": {
  "kernelspec": {
   "display_name": "Python 3",
   "language": "python",
   "name": "python3"
  },
  "language_info": {
   "codemirror_mode": {
    "name": "ipython",
    "version": 3
   },
   "file_extension": ".py",
   "mimetype": "text/x-python",
   "name": "python",
   "nbconvert_exporter": "python",
   "pygments_lexer": "ipython3",
   "version": "3.9.4"
  }
 },
 "nbformat": 4,
 "nbformat_minor": 5
}
