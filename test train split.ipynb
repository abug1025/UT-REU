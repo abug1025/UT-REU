{
 "cells": [
  {
   "cell_type": "code",
   "execution_count": 29,
   "metadata": {},
   "outputs": [],
   "source": [
    "# rdkit\n",
    "from rdkit import RDLogger, Chem, DataStructs\n",
    "from rdkit.Chem import AllChem, Draw, Descriptors, Lipinski\n",
    "from rdkit.Chem.Draw import IPythonConsole\n",
    "RDLogger.DisableLog('rdApp.*')\n",
    "\n",
    "# data\n",
    "import math\n",
    "import numpy as np\n",
    "import pandas as pd\n",
    "import matplotlib.pyplot as plt\n",
    "import seaborn as sb\n",
    "\n",
    "#keras\n",
    "import tensorflow as tf\n",
    "from tensorflow.python.keras.layers import Dense\n",
    "from tensorflow.keras.layers import Dropout\n",
    "from tensorflow.python.keras.models import Sequential\n",
    "from tensorflow.python.keras.wrappers.scikit_learn import KerasRegressor\n",
    "\n",
    "# sklearn\n",
    "from sklearn.metrics import mean_absolute_error\n",
    "from sklearn.metrics import mean_squared_error\n",
    "from sklearn.model_selection import train_test_split\n",
    "from sklearn.preprocessing import MinMaxScaler"
   ]
  },
  {
   "cell_type": "code",
   "execution_count": 2,
   "metadata": {},
   "outputs": [],
   "source": [
    "def smiles2mols(smiles_list):\n",
    "\n",
    "    mols_list = []\n",
    "    \n",
    "    for smiles in smiles_list:\n",
    "        mol = Chem.MolFromSmiles(smiles)\n",
    "        if mol != None:\n",
    "            mols_list.append(mol)\n",
    "    \n",
    "    invalid = len(smiles_list) - len(mols_list)\n",
    "    \n",
    "    print('Number of Invalid: ', invalid)\n",
    "    \n",
    "    return mols_list"
   ]
  },
  {
   "cell_type": "code",
   "execution_count": 3,
   "metadata": {},
   "outputs": [],
   "source": [
    "def gen_descriptors(smiles_list):\n",
    "    \n",
    "    descriptors_list = []\n",
    "    num_smiles = len(smiles_list)\n",
    "    num_descriptors = 21\n",
    "    \n",
    "    for smiles in smiles_list:\n",
    "        row = [Descriptors.MolWt(smiles), \n",
    "               Descriptors.MolLogP(smiles), \n",
    "               Descriptors.NumHDonors(smiles), \n",
    "               Descriptors.NumHAcceptors(smiles), \n",
    "               Descriptors.TPSA(smiles), \n",
    "               Descriptors.NumRotatableBonds(smiles),\n",
    "               \n",
    "               Lipinski.FractionCSP3(smiles), \n",
    "               Lipinski.HeavyAtomCount(smiles), \n",
    "               Lipinski.NHOHCount(smiles), \n",
    "               Lipinski.NOCount(smiles),\n",
    "               Lipinski.NumAliphaticCarbocycles(smiles),\n",
    "               Lipinski.NumAliphaticHeterocycles(smiles),\n",
    "               Lipinski.NumAliphaticRings(smiles),\n",
    "               Lipinski.NumAromaticCarbocycles(smiles),\n",
    "               Lipinski.NumAromaticHeterocycles(smiles),\n",
    "               Lipinski.NumAromaticRings(smiles),\n",
    "               Lipinski.NumHeteroatoms(smiles),\n",
    "               Lipinski.NumSaturatedCarbocycles(smiles),\n",
    "               Lipinski.NumSaturatedHeterocycles(smiles),\n",
    "               Lipinski.NumSaturatedRings(smiles),\n",
    "               Lipinski.RingCount(smiles)]\n",
    "        \n",
    "        descriptors_list = np.concatenate((descriptors_list, row), axis=0)\n",
    "        \n",
    "    descriptors_list = descriptors_list.reshape(num_smiles, num_descriptors)\n",
    "    \n",
    "    headers = ['MolWt', \n",
    "               'MolLogP', \n",
    "               'NumHDonors', \n",
    "               'NumHAcceptors', \n",
    "               'TPSA', \n",
    "               'NumRotatableBonds', \n",
    "               'FractionCSP3', \n",
    "               'HeavyAtomCount', \n",
    "               'NHOHCount', \n",
    "               'NOCount', \n",
    "               'NumAliphaticCarbocycles', \n",
    "               'NumAliphaticHeterocycles', \n",
    "               'NumAliphaticRings', \n",
    "               'NumAromaticCarbocycles', \n",
    "               'NumAromaticHeterocycles', \n",
    "               'NumAromaticRings', \n",
    "               'NumHeteroatoms', \n",
    "               'NumSaturatedCarbocycles', \n",
    "               'NumSaturatedHeterocycles', \n",
    "               'NumSaturatedRings', \n",
    "               'RingCount']\n",
    "    \n",
    "    print('Number of headers: ' + str(len(headers)))\n",
    "\n",
    "    df = pd.DataFrame(descriptors_list, columns = headers) \n",
    "    \n",
    "    return df"
   ]
  },
  {
   "cell_type": "code",
   "execution_count": 4,
   "metadata": {
    "scrolled": true
   },
   "outputs": [
    {
     "data": {
      "text/html": [
       "<div>\n",
       "<style scoped>\n",
       "    .dataframe tbody tr th:only-of-type {\n",
       "        vertical-align: middle;\n",
       "    }\n",
       "\n",
       "    .dataframe tbody tr th {\n",
       "        vertical-align: top;\n",
       "    }\n",
       "\n",
       "    .dataframe thead th {\n",
       "        text-align: right;\n",
       "    }\n",
       "</style>\n",
       "<table border=\"1\" class=\"dataframe\">\n",
       "  <thead>\n",
       "    <tr style=\"text-align: right;\">\n",
       "      <th></th>\n",
       "      <th>Unnamed: 0</th>\n",
       "      <th>Unnamed: 1</th>\n",
       "      <th>PaCa2 cellular</th>\n",
       "    </tr>\n",
       "  </thead>\n",
       "  <tbody>\n",
       "    <tr>\n",
       "      <th>0</th>\n",
       "      <td>1</td>\n",
       "      <td>FC(F)(F)C(=O)OC(=O)C(F)(F)F</td>\n",
       "      <td>4.17</td>\n",
       "    </tr>\n",
       "    <tr>\n",
       "      <th>1</th>\n",
       "      <td>2</td>\n",
       "      <td>FC(F)(Cl)C(=O)OC(=O)C(F)(F)Cl</td>\n",
       "      <td>3.95</td>\n",
       "    </tr>\n",
       "    <tr>\n",
       "      <th>2</th>\n",
       "      <td>3</td>\n",
       "      <td>FC(F)(F)C(F)(F)C(=O)OC(=O)C(F)(F)C(F)(F)F</td>\n",
       "      <td>4.08</td>\n",
       "    </tr>\n",
       "    <tr>\n",
       "      <th>3</th>\n",
       "      <td>4</td>\n",
       "      <td>CC1(C)CC(=O)OC1=O</td>\n",
       "      <td>4.11</td>\n",
       "    </tr>\n",
       "    <tr>\n",
       "      <th>4</th>\n",
       "      <td>5</td>\n",
       "      <td>O=C1OC(=O)C=C1</td>\n",
       "      <td>3.98</td>\n",
       "    </tr>\n",
       "  </tbody>\n",
       "</table>\n",
       "</div>"
      ],
      "text/plain": [
       "   Unnamed: 0                                 Unnamed: 1  PaCa2 cellular\n",
       "0           1                FC(F)(F)C(=O)OC(=O)C(F)(F)F            4.17\n",
       "1           2              FC(F)(Cl)C(=O)OC(=O)C(F)(F)Cl            3.95\n",
       "2           3  FC(F)(F)C(F)(F)C(=O)OC(=O)C(F)(F)C(F)(F)F            4.08\n",
       "3           4                          CC1(C)CC(=O)OC1=O            4.11\n",
       "4           5                             O=C1OC(=O)C=C1            3.98"
      ]
     },
     "execution_count": 4,
     "metadata": {},
     "output_type": "execute_result"
    }
   ],
   "source": [
    "df = pd.read_csv(r'/Users/alee224/Desktop/BME CuRES Cancer/Research/qnar_supp_data.csv')\n",
    "df.head()"
   ]
  },
  {
   "cell_type": "code",
   "execution_count": 5,
   "metadata": {
    "scrolled": true
   },
   "outputs": [
    {
     "data": {
      "text/html": [
       "<div>\n",
       "<style scoped>\n",
       "    .dataframe tbody tr th:only-of-type {\n",
       "        vertical-align: middle;\n",
       "    }\n",
       "\n",
       "    .dataframe tbody tr th {\n",
       "        vertical-align: top;\n",
       "    }\n",
       "\n",
       "    .dataframe thead th {\n",
       "        text-align: right;\n",
       "    }\n",
       "</style>\n",
       "<table border=\"1\" class=\"dataframe\">\n",
       "  <thead>\n",
       "    <tr style=\"text-align: right;\">\n",
       "      <th></th>\n",
       "      <th>Unnamed: 1</th>\n",
       "      <th>PaCa2 cellular</th>\n",
       "    </tr>\n",
       "  </thead>\n",
       "  <tbody>\n",
       "    <tr>\n",
       "      <th>0</th>\n",
       "      <td>FC(F)(F)C(=O)OC(=O)C(F)(F)F</td>\n",
       "      <td>4.17</td>\n",
       "    </tr>\n",
       "    <tr>\n",
       "      <th>1</th>\n",
       "      <td>FC(F)(Cl)C(=O)OC(=O)C(F)(F)Cl</td>\n",
       "      <td>3.95</td>\n",
       "    </tr>\n",
       "    <tr>\n",
       "      <th>2</th>\n",
       "      <td>FC(F)(F)C(F)(F)C(=O)OC(=O)C(F)(F)C(F)(F)F</td>\n",
       "      <td>4.08</td>\n",
       "    </tr>\n",
       "    <tr>\n",
       "      <th>3</th>\n",
       "      <td>CC1(C)CC(=O)OC1=O</td>\n",
       "      <td>4.11</td>\n",
       "    </tr>\n",
       "    <tr>\n",
       "      <th>4</th>\n",
       "      <td>O=C1OC(=O)C=C1</td>\n",
       "      <td>3.98</td>\n",
       "    </tr>\n",
       "    <tr>\n",
       "      <th>...</th>\n",
       "      <td>...</td>\n",
       "      <td>...</td>\n",
       "    </tr>\n",
       "    <tr>\n",
       "      <th>104</th>\n",
       "      <td>O=C1COCC(=O)O1</td>\n",
       "      <td>3.99</td>\n",
       "    </tr>\n",
       "    <tr>\n",
       "      <th>105</th>\n",
       "      <td>O=C1OC(=O)c2ccccc12</td>\n",
       "      <td>3.90</td>\n",
       "    </tr>\n",
       "    <tr>\n",
       "      <th>106</th>\n",
       "      <td>OC(=O)CC1CC(=O)OC1=O</td>\n",
       "      <td>4.03</td>\n",
       "    </tr>\n",
       "    <tr>\n",
       "      <th>107</th>\n",
       "      <td>Fc1ccc(F)c2C(=O)OC(=O)c12</td>\n",
       "      <td>3.91</td>\n",
       "    </tr>\n",
       "    <tr>\n",
       "      <th>108</th>\n",
       "      <td>OC(=O)CN(CCN1CC(=O)OC(=O)C1)CCN1CC(=O)OC(=O)C1</td>\n",
       "      <td>4.10</td>\n",
       "    </tr>\n",
       "  </tbody>\n",
       "</table>\n",
       "<p>109 rows × 2 columns</p>\n",
       "</div>"
      ],
      "text/plain": [
       "                                         Unnamed: 1  PaCa2 cellular\n",
       "0                       FC(F)(F)C(=O)OC(=O)C(F)(F)F            4.17\n",
       "1                     FC(F)(Cl)C(=O)OC(=O)C(F)(F)Cl            3.95\n",
       "2         FC(F)(F)C(F)(F)C(=O)OC(=O)C(F)(F)C(F)(F)F            4.08\n",
       "3                                 CC1(C)CC(=O)OC1=O            4.11\n",
       "4                                    O=C1OC(=O)C=C1            3.98\n",
       "..                                              ...             ...\n",
       "104                                  O=C1COCC(=O)O1            3.99\n",
       "105                             O=C1OC(=O)c2ccccc12            3.90\n",
       "106                            OC(=O)CC1CC(=O)OC1=O            4.03\n",
       "107                       Fc1ccc(F)c2C(=O)OC(=O)c12            3.91\n",
       "108  OC(=O)CN(CCN1CC(=O)OC(=O)C1)CCN1CC(=O)OC(=O)C1            4.10\n",
       "\n",
       "[109 rows x 2 columns]"
      ]
     },
     "execution_count": 5,
     "metadata": {},
     "output_type": "execute_result"
    }
   ],
   "source": [
    "df_clean = df[['Unnamed: 1', 'PaCa2 cellular']]\n",
    "df_clean"
   ]
  },
  {
   "cell_type": "code",
   "execution_count": 6,
   "metadata": {
    "scrolled": true
   },
   "outputs": [
    {
     "data": {
      "text/plain": [
       "(109, 2)"
      ]
     },
     "execution_count": 6,
     "metadata": {},
     "output_type": "execute_result"
    }
   ],
   "source": [
    "df_clean.shape"
   ]
  },
  {
   "cell_type": "code",
   "execution_count": 7,
   "metadata": {},
   "outputs": [],
   "source": [
    "df_clean.columns = ['smiles','PaCa2 cellular']"
   ]
  },
  {
   "cell_type": "code",
   "execution_count": 8,
   "metadata": {},
   "outputs": [
    {
     "name": "stdout",
     "output_type": "stream",
     "text": [
      "Number of Invalid:  0\n"
     ]
    }
   ],
   "source": [
    "mols = smiles2mols(df_clean['smiles'])"
   ]
  },
  {
   "cell_type": "code",
   "execution_count": 19,
   "metadata": {},
   "outputs": [
    {
     "name": "stdout",
     "output_type": "stream",
     "text": [
      "Number of headers: 21\n"
     ]
    }
   ],
   "source": [
    "X = gen_descriptors(mols)\n",
    "y = df['PaCa2 cellular']"
   ]
  },
  {
   "cell_type": "markdown",
   "metadata": {},
   "source": [
    "## Beginning Test-Train Split"
   ]
  },
  {
   "cell_type": "code",
   "execution_count": 24,
   "metadata": {},
   "outputs": [
    {
     "name": "stdout",
     "output_type": "stream",
     "text": [
      "Number of headers: 21\n"
     ]
    }
   ],
   "source": [
    "X = gen_descriptors(mols)\n",
    "y = df['PaCa2 cellular']\n",
    "X_train, X_val, y_train, y_val = train_test_split(X, y, test_size=0.2, random_state=12)"
   ]
  },
  {
   "cell_type": "code",
   "execution_count": 21,
   "metadata": {},
   "outputs": [],
   "source": [
    "combined = X.assign(target = y)"
   ]
  },
  {
   "cell_type": "code",
   "execution_count": 13,
   "metadata": {},
   "outputs": [
    {
     "data": {
      "image/png": "[encoded data removed]",
      "text/plain": [
       "<Figure size 1152x1008 with 25 Axes>"
      ]
     },
     "metadata": {
      "needs_background": "light"
     },
     "output_type": "display_data"
    },
    {
     "name": "stdout",
     "output_type": "stream",
     "text": [
      "These are the histograms of all of the represented features\n"
     ]
    }
   ],
   "source": [
    "combined.hist(figsize = (16,14))\n",
    "plt.show()\n",
    "print('These are the histograms of all of the represented features')"
   ]
  },
  {
   "cell_type": "code",
   "execution_count": 14,
   "metadata": {},
   "outputs": [
    {
     "data": {
      "image/png": "[encoded data removed]",
      "text/plain": [
       "<Figure size 1080x1080 with 2 Axes>"
      ]
     },
     "metadata": {
      "needs_background": "light"
     },
     "output_type": "display_data"
    }
   ],
   "source": [
    "C_mat = combined.corr()\n",
    "fig = plt.figure(figsize = (15,15))\n",
    "\n",
    "sb.heatmap(C_mat, vmax = .8, square = True, cmap=\"PiYG\")\n",
    "plt.show()"
   ]
  },
  {
   "cell_type": "code",
   "execution_count": null,
   "metadata": {},
   "outputs": [],
   "source": []
  },
  {
   "cell_type": "code",
   "execution_count": 32,
   "metadata": {},
   "outputs": [
    {
     "name": "stdout",
     "output_type": "stream",
     "text": [
      "Number of headers: 21\n"
     ]
    }
   ],
   "source": [
    "X = gen_descriptors(mols)\n",
    "y = df['PaCa2 cellular']\n",
    "X_train, X_val, y_train, y_val = train_test_split(X, y, test_size=0.2, random_state=12)"
   ]
  },
  {
   "cell_type": "code",
   "execution_count": 33,
   "metadata": {},
   "outputs": [],
   "source": [
    "X_train = X_train.to_numpy()\n",
    "X_val = X_val.to_numpy()\n",
    "y_train = y_train.to_numpy()\n",
    "y_val = y_val.to_numpy()"
   ]
  },
  {
   "cell_type": "code",
   "execution_count": 34,
   "metadata": {},
   "outputs": [],
   "source": [
    "# Normalize the data\n",
    "\n",
    "y_train=np.reshape(y_train, (-1,1))\n",
    "y_val=np.reshape(y_val, (-1,1))\n",
    "\n",
    "scaler_x = MinMaxScaler()\n",
    "scaler_y = MinMaxScaler()\n",
    "\n",
    "scaler_x.fit(X_train)\n",
    "xtrain_scale=scaler_x.transform(X_train)\n",
    "scaler_x.fit(X_val)\n",
    "xval_scale=scaler_x.transform(X_val)\n",
    "\n",
    "scaler_y.fit(y_train)\n",
    "ytrain_scale=scaler_y.transform(y_train)\n",
    "scaler_y.fit(y_val)\n",
    "yval_scale=scaler_y.transform(y_val)"
   ]
  },
  {
   "cell_type": "code",
   "execution_count": 87,
   "metadata": {},
   "outputs": [
    {
     "name": "stdout",
     "output_type": "stream",
     "text": [
      "Epoch 1/200\n",
      "2/2 [==============================] - 0s 115ms/step - loss: 0.4332 - mse: 0.4332 - mae: 0.6292 - val_loss: 0.5480 - val_mse: 0.5480 - val_mae: 0.7216\n",
      "Epoch 2/200\n",
      "2/2 [==============================] - 0s 17ms/step - loss: 0.4179 - mse: 0.4179 - mae: 0.6165 - val_loss: 0.5385 - val_mse: 0.5385 - val_mae: 0.7148\n",
      "Epoch 3/200\n",
      "2/2 [==============================] - 0s 20ms/step - loss: 0.4089 - mse: 0.4089 - mae: 0.6083 - val_loss: 0.5311 - val_mse: 0.5311 - val_mae: 0.7093\n",
      "Epoch 4/200\n",
      "2/2 [==============================] - 0s 19ms/step - loss: 0.4025 - mse: 0.4025 - mae: 0.6023 - val_loss: 0.5237 - val_mse: 0.5237 - val_mae: 0.7041\n",
      "Epoch 5/200\n",
      "2/2 [==============================] - 0s 20ms/step - loss: 0.3962 - mse: 0.3962 - mae: 0.5968 - val_loss: 0.5161 - val_mse: 0.5161 - val_mae: 0.6988\n",
      "Epoch 6/200\n",
      "2/2 [==============================] - 0s 21ms/step - loss: 0.3902 - mse: 0.3902 - mae: 0.5915 - val_loss: 0.5084 - val_mse: 0.5084 - val_mae: 0.6933\n",
      "Epoch 7/200\n",
      "2/2 [==============================] - 0s 20ms/step - loss: 0.3844 - mse: 0.3844 - mae: 0.5866 - val_loss: 0.5007 - val_mse: 0.5007 - val_mae: 0.6878\n",
      "Epoch 8/200\n",
      "2/2 [==============================] - 0s 19ms/step - loss: 0.3784 - mse: 0.3784 - mae: 0.5817 - val_loss: 0.4928 - val_mse: 0.4928 - val_mae: 0.6821\n",
      "Epoch 9/200\n",
      "2/2 [==============================] - 0s 23ms/step - loss: 0.3721 - mse: 0.3721 - mae: 0.5764 - val_loss: 0.4845 - val_mse: 0.4845 - val_mae: 0.6760\n",
      "Epoch 10/200\n",
      "2/2 [==============================] - 0s 20ms/step - loss: 0.3654 - mse: 0.3654 - mae: 0.5707 - val_loss: 0.4755 - val_mse: 0.4755 - val_mae: 0.6694\n",
      "Epoch 11/200\n",
      "2/2 [==============================] - 0s 22ms/step - loss: 0.3581 - mse: 0.3581 - mae: 0.5644 - val_loss: 0.4651 - val_mse: 0.4651 - val_mae: 0.6616\n",
      "Epoch 12/200\n",
      "2/2 [==============================] - 0s 20ms/step - loss: 0.3504 - mse: 0.3504 - mae: 0.5578 - val_loss: 0.4536 - val_mse: 0.4536 - val_mae: 0.6530\n",
      "Epoch 13/200\n",
      "2/2 [==============================] - 0s 22ms/step - loss: 0.3424 - mse: 0.3424 - mae: 0.5506 - val_loss: 0.4421 - val_mse: 0.4421 - val_mae: 0.6441\n",
      "Epoch 14/200\n",
      "2/2 [==============================] - 0s 23ms/step - loss: 0.3342 - mse: 0.3342 - mae: 0.5432 - val_loss: 0.4308 - val_mse: 0.4308 - val_mae: 0.6352\n",
      "Epoch 15/200\n",
      "2/2 [==============================] - 0s 22ms/step - loss: 0.3258 - mse: 0.3258 - mae: 0.5357 - val_loss: 0.4192 - val_mse: 0.4192 - val_mae: 0.6260\n",
      "Epoch 16/200\n",
      "2/2 [==============================] - 0s 23ms/step - loss: 0.3174 - mse: 0.3174 - mae: 0.5280 - val_loss: 0.4074 - val_mse: 0.4074 - val_mae: 0.6164\n",
      "Epoch 17/200\n",
      "2/2 [==============================] - 0s 21ms/step - loss: 0.3088 - mse: 0.3088 - mae: 0.5202 - val_loss: 0.3957 - val_mse: 0.3957 - val_mae: 0.6067\n",
      "Epoch 18/200\n",
      "2/2 [==============================] - 0s 24ms/step - loss: 0.3000 - mse: 0.3000 - mae: 0.5121 - val_loss: 0.3840 - val_mse: 0.3840 - val_mae: 0.5969\n",
      "Epoch 19/200\n",
      "2/2 [==============================] - 0s 23ms/step - loss: 0.2914 - mse: 0.2914 - mae: 0.5039 - val_loss: 0.3718 - val_mse: 0.3718 - val_mae: 0.5866\n",
      "Epoch 20/200\n",
      "2/2 [==============================] - 0s 23ms/step - loss: 0.2825 - mse: 0.2825 - mae: 0.4958 - val_loss: 0.3593 - val_mse: 0.3593 - val_mae: 0.5756\n",
      "Epoch 21/200\n",
      "2/2 [==============================] - 0s 24ms/step - loss: 0.2733 - mse: 0.2733 - mae: 0.4870 - val_loss: 0.3466 - val_mse: 0.3466 - val_mae: 0.5643\n",
      "Epoch 22/200\n",
      "2/2 [==============================] - 0s 23ms/step - loss: 0.2639 - mse: 0.2639 - mae: 0.4781 - val_loss: 0.3337 - val_mse: 0.3337 - val_mae: 0.5526\n",
      "Epoch 23/200\n",
      "2/2 [==============================] - 0s 24ms/step - loss: 0.2543 - mse: 0.2543 - mae: 0.4691 - val_loss: 0.3205 - val_mse: 0.3205 - val_mae: 0.5404\n",
      "Epoch 24/200\n",
      "2/2 [==============================] - 0s 26ms/step - loss: 0.2448 - mse: 0.2448 - mae: 0.4597 - val_loss: 0.3071 - val_mse: 0.3071 - val_mae: 0.5277\n",
      "Epoch 25/200\n",
      "2/2 [==============================] - 0s 26ms/step - loss: 0.2351 - mse: 0.2351 - mae: 0.4498 - val_loss: 0.2938 - val_mse: 0.2938 - val_mae: 0.5147\n",
      "Epoch 26/200\n",
      "2/2 [==============================] - 0s 25ms/step - loss: 0.2254 - mse: 0.2254 - mae: 0.4398 - val_loss: 0.2804 - val_mse: 0.2804 - val_mae: 0.5012\n",
      "Epoch 27/200\n",
      "2/2 [==============================] - 0s 23ms/step - loss: 0.2159 - mse: 0.2159 - mae: 0.4298 - val_loss: 0.2671 - val_mse: 0.2671 - val_mae: 0.4875\n",
      "Epoch 28/200\n",
      "2/2 [==============================] - 0s 25ms/step - loss: 0.2063 - mse: 0.2063 - mae: 0.4193 - val_loss: 0.2539 - val_mse: 0.2539 - val_mae: 0.4754\n",
      "Epoch 29/200\n",
      "2/2 [==============================] - 0s 24ms/step - loss: 0.1968 - mse: 0.1968 - mae: 0.4089 - val_loss: 0.2408 - val_mse: 0.2408 - val_mae: 0.4630\n",
      "Epoch 30/200\n",
      "2/2 [==============================] - 0s 22ms/step - loss: 0.1875 - mse: 0.1875 - mae: 0.3982 - val_loss: 0.2277 - val_mse: 0.2277 - val_mae: 0.4501\n",
      "Epoch 31/200\n",
      "2/2 [==============================] - 0s 24ms/step - loss: 0.1783 - mse: 0.1783 - mae: 0.3871 - val_loss: 0.2146 - val_mse: 0.2146 - val_mae: 0.4368\n",
      "Epoch 32/200\n",
      "2/2 [==============================] - 0s 23ms/step - loss: 0.1692 - mse: 0.1692 - mae: 0.3757 - val_loss: 0.2019 - val_mse: 0.2019 - val_mae: 0.4232\n",
      "Epoch 33/200\n",
      "2/2 [==============================] - 0s 25ms/step - loss: 0.1604 - mse: 0.1604 - mae: 0.3648 - val_loss: 0.1895 - val_mse: 0.1895 - val_mae: 0.4095\n",
      "Epoch 34/200\n",
      "2/2 [==============================] - 0s 24ms/step - loss: 0.1518 - mse: 0.1518 - mae: 0.3533 - val_loss: 0.1776 - val_mse: 0.1776 - val_mae: 0.3957\n",
      "Epoch 35/200\n",
      "2/2 [==============================] - 0s 23ms/step - loss: 0.1435 - mse: 0.1435 - mae: 0.3418 - val_loss: 0.1659 - val_mse: 0.1659 - val_mae: 0.3815\n",
      "Epoch 36/200\n",
      "2/2 [==============================] - 0s 23ms/step - loss: 0.1354 - mse: 0.1354 - mae: 0.3305 - val_loss: 0.1545 - val_mse: 0.1545 - val_mae: 0.3668\n",
      "Epoch 37/200\n",
      "2/2 [==============================] - 0s 25ms/step - loss: 0.1277 - mse: 0.1277 - mae: 0.3193 - val_loss: 0.1434 - val_mse: 0.1434 - val_mae: 0.3520\n",
      "Epoch 38/200\n",
      "2/2 [==============================] - 0s 22ms/step - loss: 0.1202 - mse: 0.1202 - mae: 0.3084 - val_loss: 0.1331 - val_mse: 0.1331 - val_mae: 0.3390\n",
      "Epoch 39/200\n",
      "2/2 [==============================] - 0s 22ms/step - loss: 0.1134 - mse: 0.1134 - mae: 0.2978 - val_loss: 0.1237 - val_mse: 0.1237 - val_mae: 0.3264\n",
      "Epoch 40/200\n",
      "2/2 [==============================] - 0s 19ms/step - loss: 0.1071 - mse: 0.1071 - mae: 0.2878 - val_loss: 0.1154 - val_mse: 0.1154 - val_mae: 0.3144\n",
      "Epoch 41/200\n",
      "2/2 [==============================] - 0s 20ms/step - loss: 0.1013 - mse: 0.1013 - mae: 0.2801 - val_loss: 0.1077 - val_mse: 0.1077 - val_mae: 0.3028\n",
      "Epoch 42/200\n",
      "2/2 [==============================] - 0s 20ms/step - loss: 0.0962 - mse: 0.0962 - mae: 0.2726 - val_loss: 0.1006 - val_mse: 0.1006 - val_mae: 0.2911\n",
      "Epoch 43/200\n",
      "2/2 [==============================] - 0s 20ms/step - loss: 0.0916 - mse: 0.0916 - mae: 0.2653 - val_loss: 0.0940 - val_mse: 0.0940 - val_mae: 0.2795\n",
      "Epoch 44/200\n",
      "2/2 [==============================] - 0s 21ms/step - loss: 0.0875 - mse: 0.0875 - mae: 0.2588 - val_loss: 0.0884 - val_mse: 0.0884 - val_mae: 0.2688\n",
      "Epoch 45/200\n",
      "2/2 [==============================] - 0s 20ms/step - loss: 0.0837 - mse: 0.0837 - mae: 0.2520 - val_loss: 0.0837 - val_mse: 0.0837 - val_mae: 0.2592\n",
      "Epoch 46/200\n",
      "2/2 [==============================] - 0s 20ms/step - loss: 0.0805 - mse: 0.0805 - mae: 0.2462 - val_loss: 0.0792 - val_mse: 0.0792 - val_mae: 0.2495\n",
      "Epoch 47/200\n",
      "2/2 [==============================] - 0s 20ms/step - loss: 0.0779 - mse: 0.0779 - mae: 0.2415 - val_loss: 0.0754 - val_mse: 0.0754 - val_mae: 0.2403\n",
      "Epoch 48/200\n",
      "2/2 [==============================] - 0s 20ms/step - loss: 0.0752 - mse: 0.0752 - mae: 0.2364 - val_loss: 0.0722 - val_mse: 0.0722 - val_mae: 0.2345\n",
      "Epoch 49/200\n",
      "2/2 [==============================] - 0s 21ms/step - loss: 0.0731 - mse: 0.0731 - mae: 0.2321 - val_loss: 0.0693 - val_mse: 0.0693 - val_mae: 0.2298\n",
      "Epoch 50/200\n",
      "2/2 [==============================] - 0s 20ms/step - loss: 0.0711 - mse: 0.0711 - mae: 0.2280 - val_loss: 0.0664 - val_mse: 0.0664 - val_mae: 0.2249\n",
      "Epoch 51/200\n",
      "2/2 [==============================] - 0s 20ms/step - loss: 0.0692 - mse: 0.0692 - mae: 0.2239 - val_loss: 0.0636 - val_mse: 0.0636 - val_mae: 0.2196\n",
      "Epoch 52/200\n",
      "2/2 [==============================] - 0s 20ms/step - loss: 0.0676 - mse: 0.0676 - mae: 0.2205 - val_loss: 0.0613 - val_mse: 0.0613 - val_mae: 0.2153\n",
      "Epoch 53/200\n",
      "2/2 [==============================] - 0s 20ms/step - loss: 0.0660 - mse: 0.0660 - mae: 0.2174 - val_loss: 0.0593 - val_mse: 0.0593 - val_mae: 0.2123\n",
      "Epoch 54/200\n",
      "2/2 [==============================] - 0s 19ms/step - loss: 0.0649 - mse: 0.0649 - mae: 0.2150 - val_loss: 0.0578 - val_mse: 0.0578 - val_mae: 0.2095\n",
      "Epoch 55/200\n",
      "2/2 [==============================] - 0s 19ms/step - loss: 0.0638 - mse: 0.0638 - mae: 0.2124 - val_loss: 0.0566 - val_mse: 0.0566 - val_mae: 0.2072\n",
      "Epoch 56/200\n",
      "2/2 [==============================] - 0s 20ms/step - loss: 0.0629 - mse: 0.0629 - mae: 0.2105 - val_loss: 0.0555 - val_mse: 0.0555 - val_mae: 0.2055\n",
      "Epoch 57/200\n",
      "2/2 [==============================] - 0s 19ms/step - loss: 0.0622 - mse: 0.0622 - mae: 0.2086 - val_loss: 0.0545 - val_mse: 0.0545 - val_mae: 0.2044\n",
      "Epoch 58/200\n",
      "2/2 [==============================] - 0s 19ms/step - loss: 0.0615 - mse: 0.0615 - mae: 0.2071 - val_loss: 0.0536 - val_mse: 0.0536 - val_mae: 0.2032\n",
      "Epoch 59/200\n",
      "2/2 [==============================] - 0s 19ms/step - loss: 0.0609 - mse: 0.0609 - mae: 0.2060 - val_loss: 0.0528 - val_mse: 0.0528 - val_mae: 0.2019\n",
      "Epoch 60/200\n",
      "2/2 [==============================] - 0s 19ms/step - loss: 0.0604 - mse: 0.0604 - mae: 0.2048 - val_loss: 0.0521 - val_mse: 0.0521 - val_mae: 0.2007\n",
      "Epoch 61/200\n",
      "2/2 [==============================] - 0s 19ms/step - loss: 0.0599 - mse: 0.0599 - mae: 0.2040 - val_loss: 0.0515 - val_mse: 0.0515 - val_mae: 0.1994\n",
      "Epoch 62/200\n",
      "2/2 [==============================] - 0s 19ms/step - loss: 0.0595 - mse: 0.0595 - mae: 0.2029 - val_loss: 0.0509 - val_mse: 0.0509 - val_mae: 0.1981\n",
      "Epoch 63/200\n",
      "2/2 [==============================] - 0s 19ms/step - loss: 0.0592 - mse: 0.0592 - mae: 0.2023 - val_loss: 0.0503 - val_mse: 0.0503 - val_mae: 0.1968\n",
      "Epoch 64/200\n",
      "2/2 [==============================] - 0s 19ms/step - loss: 0.0588 - mse: 0.0588 - mae: 0.2016 - val_loss: 0.0499 - val_mse: 0.0499 - val_mae: 0.1958\n",
      "Epoch 65/200\n",
      "2/2 [==============================] - 0s 19ms/step - loss: 0.0585 - mse: 0.0585 - mae: 0.2008 - val_loss: 0.0495 - val_mse: 0.0495 - val_mae: 0.1949\n",
      "Epoch 66/200\n",
      "2/2 [==============================] - 0s 20ms/step - loss: 0.0582 - mse: 0.0582 - mae: 0.2001 - val_loss: 0.0492 - val_mse: 0.0492 - val_mae: 0.1942\n",
      "Epoch 67/200\n",
      "2/2 [==============================] - 0s 19ms/step - loss: 0.0578 - mse: 0.0578 - mae: 0.1993 - val_loss: 0.0489 - val_mse: 0.0489 - val_mae: 0.1935\n",
      "Epoch 68/200\n",
      "2/2 [==============================] - 0s 19ms/step - loss: 0.0575 - mse: 0.0575 - mae: 0.1986 - val_loss: 0.0486 - val_mse: 0.0486 - val_mae: 0.1927\n",
      "Epoch 69/200\n",
      "2/2 [==============================] - 0s 20ms/step - loss: 0.0571 - mse: 0.0571 - mae: 0.1978 - val_loss: 0.0482 - val_mse: 0.0482 - val_mae: 0.1919\n",
      "Epoch 70/200\n",
      "2/2 [==============================] - 0s 19ms/step - loss: 0.0567 - mse: 0.0567 - mae: 0.1971 - val_loss: 0.0478 - val_mse: 0.0478 - val_mae: 0.1911\n",
      "Epoch 71/200\n",
      "2/2 [==============================] - 0s 19ms/step - loss: 0.0563 - mse: 0.0563 - mae: 0.1964 - val_loss: 0.0475 - val_mse: 0.0475 - val_mae: 0.1905\n",
      "Epoch 72/200\n",
      "2/2 [==============================] - 0s 19ms/step - loss: 0.0559 - mse: 0.0559 - mae: 0.1956 - val_loss: 0.0472 - val_mse: 0.0472 - val_mae: 0.1901\n",
      "Epoch 73/200\n",
      "2/2 [==============================] - 0s 19ms/step - loss: 0.0554 - mse: 0.0554 - mae: 0.1949 - val_loss: 0.0469 - val_mse: 0.0469 - val_mae: 0.1900\n",
      "Epoch 74/200\n",
      "2/2 [==============================] - 0s 20ms/step - loss: 0.0550 - mse: 0.0550 - mae: 0.1943 - val_loss: 0.0468 - val_mse: 0.0468 - val_mae: 0.1900\n",
      "Epoch 75/200\n",
      "2/2 [==============================] - 0s 19ms/step - loss: 0.0546 - mse: 0.0546 - mae: 0.1935 - val_loss: 0.0465 - val_mse: 0.0465 - val_mae: 0.1897\n",
      "Epoch 76/200\n",
      "2/2 [==============================] - 0s 18ms/step - loss: 0.0542 - mse: 0.0542 - mae: 0.1928 - val_loss: 0.0462 - val_mse: 0.0462 - val_mae: 0.1892\n",
      "Epoch 77/200\n",
      "2/2 [==============================] - 0s 20ms/step - loss: 0.0538 - mse: 0.0538 - mae: 0.1921 - val_loss: 0.0459 - val_mse: 0.0459 - val_mae: 0.1884\n",
      "Epoch 78/200\n",
      "2/2 [==============================] - 0s 55ms/step - loss: 0.0535 - mse: 0.0535 - mae: 0.1914 - val_loss: 0.0456 - val_mse: 0.0456 - val_mae: 0.1878\n",
      "Epoch 79/200\n",
      "2/2 [==============================] - 0s 29ms/step - loss: 0.0531 - mse: 0.0531 - mae: 0.1906 - val_loss: 0.0454 - val_mse: 0.0454 - val_mae: 0.1875\n",
      "Epoch 80/200\n",
      "2/2 [==============================] - 0s 27ms/step - loss: 0.0527 - mse: 0.0527 - mae: 0.1899 - val_loss: 0.0452 - val_mse: 0.0452 - val_mae: 0.1872\n",
      "Epoch 81/200\n",
      "2/2 [==============================] - 0s 29ms/step - loss: 0.0523 - mse: 0.0523 - mae: 0.1891 - val_loss: 0.0449 - val_mse: 0.0449 - val_mae: 0.1868\n",
      "Epoch 82/200\n",
      "2/2 [==============================] - 0s 25ms/step - loss: 0.0519 - mse: 0.0519 - mae: 0.1884 - val_loss: 0.0446 - val_mse: 0.0446 - val_mae: 0.1862\n",
      "Epoch 83/200\n",
      "2/2 [==============================] - 0s 21ms/step - loss: 0.0515 - mse: 0.0515 - mae: 0.1877 - val_loss: 0.0442 - val_mse: 0.0442 - val_mae: 0.1855\n",
      "Epoch 84/200\n",
      "2/2 [==============================] - 0s 19ms/step - loss: 0.0511 - mse: 0.0511 - mae: 0.1870 - val_loss: 0.0437 - val_mse: 0.0437 - val_mae: 0.1846\n",
      "Epoch 85/200\n",
      "2/2 [==============================] - 0s 19ms/step - loss: 0.0507 - mse: 0.0507 - mae: 0.1862 - val_loss: 0.0432 - val_mse: 0.0432 - val_mae: 0.1835\n",
      "Epoch 86/200\n",
      "2/2 [==============================] - 0s 19ms/step - loss: 0.0503 - mse: 0.0503 - mae: 0.1854 - val_loss: 0.0427 - val_mse: 0.0427 - val_mae: 0.1822\n",
      "Epoch 87/200\n",
      "2/2 [==============================] - 0s 19ms/step - loss: 0.0499 - mse: 0.0499 - mae: 0.1845 - val_loss: 0.0422 - val_mse: 0.0422 - val_mae: 0.1813\n",
      "Epoch 88/200\n",
      "2/2 [==============================] - 0s 19ms/step - loss: 0.0495 - mse: 0.0495 - mae: 0.1839 - val_loss: 0.0418 - val_mse: 0.0418 - val_mae: 0.1805\n",
      "Epoch 89/200\n",
      "2/2 [==============================] - 0s 19ms/step - loss: 0.0491 - mse: 0.0491 - mae: 0.1831 - val_loss: 0.0415 - val_mse: 0.0415 - val_mae: 0.1798\n",
      "Epoch 90/200\n",
      "2/2 [==============================] - 0s 19ms/step - loss: 0.0486 - mse: 0.0486 - mae: 0.1823 - val_loss: 0.0413 - val_mse: 0.0413 - val_mae: 0.1795\n",
      "Epoch 91/200\n",
      "2/2 [==============================] - 0s 20ms/step - loss: 0.0482 - mse: 0.0482 - mae: 0.1816 - val_loss: 0.0412 - val_mse: 0.0412 - val_mae: 0.1794\n",
      "Epoch 92/200\n",
      "2/2 [==============================] - 0s 19ms/step - loss: 0.0479 - mse: 0.0479 - mae: 0.1810 - val_loss: 0.0412 - val_mse: 0.0412 - val_mae: 0.1793\n",
      "Epoch 93/200\n",
      "2/2 [==============================] - 0s 19ms/step - loss: 0.0476 - mse: 0.0476 - mae: 0.1805 - val_loss: 0.0411 - val_mse: 0.0411 - val_mae: 0.1791\n",
      "Epoch 94/200\n",
      "2/2 [==============================] - 0s 19ms/step - loss: 0.0473 - mse: 0.0473 - mae: 0.1801 - val_loss: 0.0409 - val_mse: 0.0409 - val_mae: 0.1786\n",
      "Epoch 95/200\n",
      "2/2 [==============================] - 0s 19ms/step - loss: 0.0469 - mse: 0.0469 - mae: 0.1795 - val_loss: 0.0406 - val_mse: 0.0406 - val_mae: 0.1779\n",
      "Epoch 96/200\n",
      "2/2 [==============================] - 0s 19ms/step - loss: 0.0466 - mse: 0.0466 - mae: 0.1787 - val_loss: 0.0403 - val_mse: 0.0403 - val_mae: 0.1773\n",
      "Epoch 97/200\n",
      "2/2 [==============================] - 0s 19ms/step - loss: 0.0462 - mse: 0.0462 - mae: 0.1779 - val_loss: 0.0400 - val_mse: 0.0400 - val_mae: 0.1765\n",
      "Epoch 98/200\n",
      "2/2 [==============================] - 0s 19ms/step - loss: 0.0458 - mse: 0.0458 - mae: 0.1772 - val_loss: 0.0397 - val_mse: 0.0397 - val_mae: 0.1756\n",
      "Epoch 99/200\n",
      "2/2 [==============================] - 0s 19ms/step - loss: 0.0455 - mse: 0.0455 - mae: 0.1763 - val_loss: 0.0392 - val_mse: 0.0392 - val_mae: 0.1744\n",
      "Epoch 100/200\n",
      "2/2 [==============================] - 0s 20ms/step - loss: 0.0451 - mse: 0.0451 - mae: 0.1754 - val_loss: 0.0388 - val_mse: 0.0388 - val_mae: 0.1732\n",
      "Epoch 101/200\n"
     ]
    },
    {
     "name": "stdout",
     "output_type": "stream",
     "text": [
      "2/2 [==============================] - 0s 20ms/step - loss: 0.0447 - mse: 0.0447 - mae: 0.1746 - val_loss: 0.0384 - val_mse: 0.0384 - val_mae: 0.1722\n",
      "Epoch 102/200\n",
      "2/2 [==============================] - 0s 19ms/step - loss: 0.0444 - mse: 0.0444 - mae: 0.1737 - val_loss: 0.0381 - val_mse: 0.0381 - val_mae: 0.1714\n",
      "Epoch 103/200\n",
      "2/2 [==============================] - 0s 19ms/step - loss: 0.0440 - mse: 0.0440 - mae: 0.1730 - val_loss: 0.0379 - val_mse: 0.0379 - val_mae: 0.1710\n",
      "Epoch 104/200\n",
      "2/2 [==============================] - 0s 19ms/step - loss: 0.0437 - mse: 0.0437 - mae: 0.1724 - val_loss: 0.0377 - val_mse: 0.0377 - val_mae: 0.1705\n",
      "Epoch 105/200\n",
      "2/2 [==============================] - 0s 19ms/step - loss: 0.0434 - mse: 0.0434 - mae: 0.1718 - val_loss: 0.0375 - val_mse: 0.0375 - val_mae: 0.1698\n",
      "Epoch 106/200\n",
      "2/2 [==============================] - 0s 19ms/step - loss: 0.0430 - mse: 0.0430 - mae: 0.1710 - val_loss: 0.0371 - val_mse: 0.0371 - val_mae: 0.1688\n",
      "Epoch 107/200\n",
      "2/2 [==============================] - 0s 18ms/step - loss: 0.0427 - mse: 0.0427 - mae: 0.1702 - val_loss: 0.0368 - val_mse: 0.0368 - val_mae: 0.1679\n",
      "Epoch 108/200\n",
      "2/2 [==============================] - 0s 19ms/step - loss: 0.0424 - mse: 0.0424 - mae: 0.1694 - val_loss: 0.0364 - val_mse: 0.0364 - val_mae: 0.1671\n",
      "Epoch 109/200\n",
      "2/2 [==============================] - 0s 19ms/step - loss: 0.0420 - mse: 0.0420 - mae: 0.1685 - val_loss: 0.0361 - val_mse: 0.0361 - val_mae: 0.1665\n",
      "Epoch 110/200\n",
      "2/2 [==============================] - 0s 18ms/step - loss: 0.0417 - mse: 0.0417 - mae: 0.1679 - val_loss: 0.0357 - val_mse: 0.0357 - val_mae: 0.1659\n",
      "Epoch 111/200\n",
      "2/2 [==============================] - 0s 19ms/step - loss: 0.0413 - mse: 0.0413 - mae: 0.1673 - val_loss: 0.0353 - val_mse: 0.0353 - val_mae: 0.1651\n",
      "Epoch 112/200\n",
      "2/2 [==============================] - 0s 19ms/step - loss: 0.0410 - mse: 0.0410 - mae: 0.1666 - val_loss: 0.0349 - val_mse: 0.0349 - val_mae: 0.1644\n",
      "Epoch 113/200\n",
      "2/2 [==============================] - 0s 19ms/step - loss: 0.0406 - mse: 0.0406 - mae: 0.1660 - val_loss: 0.0346 - val_mse: 0.0346 - val_mae: 0.1638\n",
      "Epoch 114/200\n",
      "2/2 [==============================] - 0s 19ms/step - loss: 0.0403 - mse: 0.0403 - mae: 0.1655 - val_loss: 0.0343 - val_mse: 0.0343 - val_mae: 0.1633\n",
      "Epoch 115/200\n",
      "2/2 [==============================] - 0s 22ms/step - loss: 0.0400 - mse: 0.0400 - mae: 0.1651 - val_loss: 0.0340 - val_mse: 0.0340 - val_mae: 0.1626\n",
      "Epoch 116/200\n",
      "2/2 [==============================] - 0s 24ms/step - loss: 0.0397 - mse: 0.0397 - mae: 0.1647 - val_loss: 0.0336 - val_mse: 0.0336 - val_mae: 0.1617\n",
      "Epoch 117/200\n",
      "2/2 [==============================] - 0s 21ms/step - loss: 0.0394 - mse: 0.0394 - mae: 0.1641 - val_loss: 0.0331 - val_mse: 0.0331 - val_mae: 0.1606\n",
      "Epoch 118/200\n",
      "2/2 [==============================] - 0s 19ms/step - loss: 0.0391 - mse: 0.0391 - mae: 0.1633 - val_loss: 0.0327 - val_mse: 0.0327 - val_mae: 0.1595\n",
      "Epoch 119/200\n",
      "2/2 [==============================] - 0s 19ms/step - loss: 0.0387 - mse: 0.0387 - mae: 0.1623 - val_loss: 0.0323 - val_mse: 0.0323 - val_mae: 0.1586\n",
      "Epoch 120/200\n",
      "2/2 [==============================] - 0s 19ms/step - loss: 0.0384 - mse: 0.0384 - mae: 0.1615 - val_loss: 0.0319 - val_mse: 0.0319 - val_mae: 0.1576\n",
      "Epoch 121/200\n",
      "2/2 [==============================] - 0s 19ms/step - loss: 0.0380 - mse: 0.0380 - mae: 0.1606 - val_loss: 0.0314 - val_mse: 0.0314 - val_mae: 0.1563\n",
      "Epoch 122/200\n",
      "2/2 [==============================] - 0s 19ms/step - loss: 0.0377 - mse: 0.0377 - mae: 0.1597 - val_loss: 0.0309 - val_mse: 0.0309 - val_mae: 0.1551\n",
      "Epoch 123/200\n",
      "2/2 [==============================] - 0s 19ms/step - loss: 0.0373 - mse: 0.0373 - mae: 0.1587 - val_loss: 0.0305 - val_mse: 0.0305 - val_mae: 0.1538\n",
      "Epoch 124/200\n",
      "2/2 [==============================] - 0s 18ms/step - loss: 0.0369 - mse: 0.0369 - mae: 0.1575 - val_loss: 0.0300 - val_mse: 0.0300 - val_mae: 0.1523\n",
      "Epoch 125/200\n",
      "2/2 [==============================] - 0s 19ms/step - loss: 0.0365 - mse: 0.0365 - mae: 0.1562 - val_loss: 0.0296 - val_mse: 0.0296 - val_mae: 0.1507\n",
      "Epoch 126/200\n",
      "2/2 [==============================] - 0s 19ms/step - loss: 0.0362 - mse: 0.0362 - mae: 0.1550 - val_loss: 0.0291 - val_mse: 0.0291 - val_mae: 0.1491\n",
      "Epoch 127/200\n",
      "2/2 [==============================] - 0s 19ms/step - loss: 0.0359 - mse: 0.0359 - mae: 0.1537 - val_loss: 0.0287 - val_mse: 0.0287 - val_mae: 0.1477\n",
      "Epoch 128/200\n",
      "2/2 [==============================] - 0s 22ms/step - loss: 0.0355 - mse: 0.0355 - mae: 0.1527 - val_loss: 0.0282 - val_mse: 0.0282 - val_mae: 0.1461\n",
      "Epoch 129/200\n",
      "2/2 [==============================] - 0s 19ms/step - loss: 0.0352 - mse: 0.0352 - mae: 0.1518 - val_loss: 0.0277 - val_mse: 0.0277 - val_mae: 0.1448\n",
      "Epoch 130/200\n",
      "2/2 [==============================] - 0s 19ms/step - loss: 0.0349 - mse: 0.0349 - mae: 0.1509 - val_loss: 0.0273 - val_mse: 0.0273 - val_mae: 0.1440\n",
      "Epoch 131/200\n",
      "2/2 [==============================] - 0s 19ms/step - loss: 0.0345 - mse: 0.0345 - mae: 0.1502 - val_loss: 0.0270 - val_mse: 0.0270 - val_mae: 0.1431\n",
      "Epoch 132/200\n",
      "2/2 [==============================] - 0s 19ms/step - loss: 0.0341 - mse: 0.0341 - mae: 0.1495 - val_loss: 0.0266 - val_mse: 0.0266 - val_mae: 0.1421\n",
      "Epoch 133/200\n",
      "2/2 [==============================] - 0s 22ms/step - loss: 0.0338 - mse: 0.0338 - mae: 0.1486 - val_loss: 0.0263 - val_mse: 0.0263 - val_mae: 0.1411\n",
      "Epoch 134/200\n",
      "2/2 [==============================] - 0s 19ms/step - loss: 0.0335 - mse: 0.0335 - mae: 0.1477 - val_loss: 0.0260 - val_mse: 0.0260 - val_mae: 0.1403\n",
      "Epoch 135/200\n",
      "2/2 [==============================] - 0s 19ms/step - loss: 0.0331 - mse: 0.0331 - mae: 0.1467 - val_loss: 0.0257 - val_mse: 0.0257 - val_mae: 0.1394\n",
      "Epoch 136/200\n",
      "2/2 [==============================] - 0s 19ms/step - loss: 0.0328 - mse: 0.0328 - mae: 0.1458 - val_loss: 0.0253 - val_mse: 0.0253 - val_mae: 0.1384\n",
      "Epoch 137/200\n",
      "2/2 [==============================] - 0s 19ms/step - loss: 0.0324 - mse: 0.0324 - mae: 0.1449 - val_loss: 0.0249 - val_mse: 0.0249 - val_mae: 0.1374\n",
      "Epoch 138/200\n",
      "2/2 [==============================] - 0s 18ms/step - loss: 0.0321 - mse: 0.0321 - mae: 0.1441 - val_loss: 0.0245 - val_mse: 0.0245 - val_mae: 0.1363\n",
      "Epoch 139/200\n",
      "2/2 [==============================] - 0s 19ms/step - loss: 0.0318 - mse: 0.0318 - mae: 0.1432 - val_loss: 0.0242 - val_mse: 0.0242 - val_mae: 0.1354\n",
      "Epoch 140/200\n",
      "2/2 [==============================] - 0s 20ms/step - loss: 0.0315 - mse: 0.0315 - mae: 0.1423 - val_loss: 0.0240 - val_mse: 0.0240 - val_mae: 0.1348\n",
      "Epoch 141/200\n",
      "2/2 [==============================] - 0s 18ms/step - loss: 0.0311 - mse: 0.0311 - mae: 0.1413 - val_loss: 0.0238 - val_mse: 0.0238 - val_mae: 0.1342\n",
      "Epoch 142/200\n",
      "2/2 [==============================] - 0s 19ms/step - loss: 0.0308 - mse: 0.0308 - mae: 0.1405 - val_loss: 0.0236 - val_mse: 0.0236 - val_mae: 0.1334\n",
      "Epoch 143/200\n",
      "2/2 [==============================] - 0s 19ms/step - loss: 0.0305 - mse: 0.0305 - mae: 0.1396 - val_loss: 0.0233 - val_mse: 0.0233 - val_mae: 0.1326\n",
      "Epoch 144/200\n",
      "2/2 [==============================] - 0s 19ms/step - loss: 0.0301 - mse: 0.0301 - mae: 0.1389 - val_loss: 0.0232 - val_mse: 0.0232 - val_mae: 0.1322\n",
      "Epoch 145/200\n",
      "2/2 [==============================] - 0s 19ms/step - loss: 0.0298 - mse: 0.0298 - mae: 0.1385 - val_loss: 0.0231 - val_mse: 0.0231 - val_mae: 0.1318\n",
      "Epoch 146/200\n",
      "2/2 [==============================] - 0s 19ms/step - loss: 0.0295 - mse: 0.0295 - mae: 0.1379 - val_loss: 0.0230 - val_mse: 0.0230 - val_mae: 0.1314\n",
      "Epoch 147/200\n",
      "2/2 [==============================] - 0s 19ms/step - loss: 0.0292 - mse: 0.0292 - mae: 0.1374 - val_loss: 0.0229 - val_mse: 0.0229 - val_mae: 0.1309\n",
      "Epoch 148/200\n",
      "2/2 [==============================] - 0s 19ms/step - loss: 0.0289 - mse: 0.0289 - mae: 0.1366 - val_loss: 0.0227 - val_mse: 0.0227 - val_mae: 0.1302\n",
      "Epoch 149/200\n",
      "2/2 [==============================] - 0s 21ms/step - loss: 0.0286 - mse: 0.0286 - mae: 0.1355 - val_loss: 0.0226 - val_mse: 0.0226 - val_mae: 0.1297\n",
      "Epoch 150/200\n",
      "2/2 [==============================] - 0s 21ms/step - loss: 0.0283 - mse: 0.0283 - mae: 0.1346 - val_loss: 0.0225 - val_mse: 0.0225 - val_mae: 0.1292\n",
      "Epoch 151/200\n"
     ]
    },
    {
     "name": "stdout",
     "output_type": "stream",
     "text": [
      "2/2 [==============================] - 0s 20ms/step - loss: 0.0280 - mse: 0.0280 - mae: 0.1336 - val_loss: 0.0224 - val_mse: 0.0224 - val_mae: 0.1286\n",
      "Epoch 152/200\n",
      "2/2 [==============================] - 0s 19ms/step - loss: 0.0277 - mse: 0.0277 - mae: 0.1326 - val_loss: 0.0222 - val_mse: 0.0222 - val_mae: 0.1278\n",
      "Epoch 153/200\n",
      "2/2 [==============================] - 0s 20ms/step - loss: 0.0274 - mse: 0.0274 - mae: 0.1316 - val_loss: 0.0220 - val_mse: 0.0220 - val_mae: 0.1269\n",
      "Epoch 154/200\n",
      "2/2 [==============================] - 0s 20ms/step - loss: 0.0271 - mse: 0.0271 - mae: 0.1306 - val_loss: 0.0218 - val_mse: 0.0218 - val_mae: 0.1263\n",
      "Epoch 155/200\n",
      "2/2 [==============================] - 0s 22ms/step - loss: 0.0268 - mse: 0.0268 - mae: 0.1300 - val_loss: 0.0217 - val_mse: 0.0217 - val_mae: 0.1259\n",
      "Epoch 156/200\n",
      "2/2 [==============================] - 0s 23ms/step - loss: 0.0265 - mse: 0.0265 - mae: 0.1296 - val_loss: 0.0216 - val_mse: 0.0216 - val_mae: 0.1253\n",
      "Epoch 157/200\n",
      "2/2 [==============================] - 0s 22ms/step - loss: 0.0262 - mse: 0.0262 - mae: 0.1289 - val_loss: 0.0215 - val_mse: 0.0215 - val_mae: 0.1247\n",
      "Epoch 158/200\n",
      "2/2 [==============================] - 0s 20ms/step - loss: 0.0260 - mse: 0.0260 - mae: 0.1283 - val_loss: 0.0214 - val_mse: 0.0214 - val_mae: 0.1241\n",
      "Epoch 159/200\n",
      "2/2 [==============================] - 0s 21ms/step - loss: 0.0257 - mse: 0.0257 - mae: 0.1277 - val_loss: 0.0212 - val_mse: 0.0212 - val_mae: 0.1234\n",
      "Epoch 160/200\n",
      "2/2 [==============================] - 0s 20ms/step - loss: 0.0254 - mse: 0.0254 - mae: 0.1270 - val_loss: 0.0209 - val_mse: 0.0209 - val_mae: 0.1224\n",
      "Epoch 161/200\n",
      "2/2 [==============================] - 0s 19ms/step - loss: 0.0252 - mse: 0.0252 - mae: 0.1261 - val_loss: 0.0207 - val_mse: 0.0207 - val_mae: 0.1216\n",
      "Epoch 162/200\n",
      "2/2 [==============================] - 0s 19ms/step - loss: 0.0248 - mse: 0.0248 - mae: 0.1252 - val_loss: 0.0207 - val_mse: 0.0207 - val_mae: 0.1212\n",
      "Epoch 163/200\n",
      "2/2 [==============================] - 0s 20ms/step - loss: 0.0246 - mse: 0.0246 - mae: 0.1251 - val_loss: 0.0207 - val_mse: 0.0207 - val_mae: 0.1207\n",
      "Epoch 164/200\n",
      "2/2 [==============================] - 0s 19ms/step - loss: 0.0244 - mse: 0.0244 - mae: 0.1249 - val_loss: 0.0205 - val_mse: 0.0205 - val_mae: 0.1199\n",
      "Epoch 165/200\n",
      "2/2 [==============================] - 0s 20ms/step - loss: 0.0241 - mse: 0.0241 - mae: 0.1241 - val_loss: 0.0203 - val_mse: 0.0203 - val_mae: 0.1188\n",
      "Epoch 166/200\n",
      "2/2 [==============================] - 0s 20ms/step - loss: 0.0238 - mse: 0.0238 - mae: 0.1228 - val_loss: 0.0200 - val_mse: 0.0200 - val_mae: 0.1177\n",
      "Epoch 167/200\n",
      "2/2 [==============================] - 0s 20ms/step - loss: 0.0235 - mse: 0.0235 - mae: 0.1215 - val_loss: 0.0197 - val_mse: 0.0197 - val_mae: 0.1165\n",
      "Epoch 168/200\n",
      "2/2 [==============================] - 0s 19ms/step - loss: 0.0233 - mse: 0.0233 - mae: 0.1202 - val_loss: 0.0195 - val_mse: 0.0195 - val_mae: 0.1152\n",
      "Epoch 169/200\n",
      "2/2 [==============================] - 0s 19ms/step - loss: 0.0231 - mse: 0.0231 - mae: 0.1188 - val_loss: 0.0192 - val_mse: 0.0192 - val_mae: 0.1139\n",
      "Epoch 170/200\n",
      "2/2 [==============================] - 0s 20ms/step - loss: 0.0229 - mse: 0.0229 - mae: 0.1176 - val_loss: 0.0188 - val_mse: 0.0188 - val_mae: 0.1125\n",
      "Epoch 171/200\n",
      "2/2 [==============================] - 0s 19ms/step - loss: 0.0227 - mse: 0.0227 - mae: 0.1166 - val_loss: 0.0185 - val_mse: 0.0185 - val_mae: 0.1111\n",
      "Epoch 172/200\n",
      "2/2 [==============================] - 0s 21ms/step - loss: 0.0226 - mse: 0.0226 - mae: 0.1157 - val_loss: 0.0182 - val_mse: 0.0182 - val_mae: 0.1099\n",
      "Epoch 173/200\n",
      "2/2 [==============================] - 0s 20ms/step - loss: 0.0224 - mse: 0.0224 - mae: 0.1149 - val_loss: 0.0179 - val_mse: 0.0179 - val_mae: 0.1090\n",
      "Epoch 174/200\n",
      "2/2 [==============================] - 0s 18ms/step - loss: 0.0222 - mse: 0.0222 - mae: 0.1142 - val_loss: 0.0177 - val_mse: 0.0177 - val_mae: 0.1084\n",
      "Epoch 175/200\n",
      "2/2 [==============================] - 0s 19ms/step - loss: 0.0220 - mse: 0.0220 - mae: 0.1136 - val_loss: 0.0177 - val_mse: 0.0177 - val_mae: 0.1081\n",
      "Epoch 176/200\n",
      "2/2 [==============================] - 0s 19ms/step - loss: 0.0217 - mse: 0.0217 - mae: 0.1134 - val_loss: 0.0177 - val_mse: 0.0177 - val_mae: 0.1081\n",
      "Epoch 177/200\n",
      "2/2 [==============================] - 0s 19ms/step - loss: 0.0215 - mse: 0.0215 - mae: 0.1136 - val_loss: 0.0179 - val_mse: 0.0179 - val_mae: 0.1090\n",
      "Epoch 178/200\n",
      "2/2 [==============================] - 0s 19ms/step - loss: 0.0212 - mse: 0.0212 - mae: 0.1139 - val_loss: 0.0181 - val_mse: 0.0181 - val_mae: 0.1100\n",
      "Epoch 179/200\n",
      "2/2 [==============================] - 0s 19ms/step - loss: 0.0211 - mse: 0.0211 - mae: 0.1143 - val_loss: 0.0182 - val_mse: 0.0182 - val_mae: 0.1105\n",
      "Epoch 180/200\n",
      "2/2 [==============================] - 0s 19ms/step - loss: 0.0209 - mse: 0.0209 - mae: 0.1141 - val_loss: 0.0183 - val_mse: 0.0183 - val_mae: 0.1106\n",
      "Epoch 181/200\n",
      "2/2 [==============================] - 0s 19ms/step - loss: 0.0207 - mse: 0.0207 - mae: 0.1137 - val_loss: 0.0183 - val_mse: 0.0183 - val_mae: 0.1108\n",
      "Epoch 182/200\n",
      "2/2 [==============================] - 0s 19ms/step - loss: 0.0205 - mse: 0.0205 - mae: 0.1136 - val_loss: 0.0184 - val_mse: 0.0184 - val_mae: 0.1110\n",
      "Epoch 183/200\n",
      "2/2 [==============================] - 0s 19ms/step - loss: 0.0203 - mse: 0.0203 - mae: 0.1137 - val_loss: 0.0184 - val_mse: 0.0184 - val_mae: 0.1109\n",
      "Epoch 184/200\n",
      "2/2 [==============================] - 0s 19ms/step - loss: 0.0201 - mse: 0.0201 - mae: 0.1134 - val_loss: 0.0184 - val_mse: 0.0184 - val_mae: 0.1107\n",
      "Epoch 185/200\n",
      "2/2 [==============================] - 0s 19ms/step - loss: 0.0200 - mse: 0.0200 - mae: 0.1131 - val_loss: 0.0183 - val_mse: 0.0183 - val_mae: 0.1103\n",
      "Epoch 186/200\n",
      "2/2 [==============================] - 0s 18ms/step - loss: 0.0198 - mse: 0.0198 - mae: 0.1127 - val_loss: 0.0182 - val_mse: 0.0182 - val_mae: 0.1098\n",
      "Epoch 187/200\n",
      "2/2 [==============================] - 0s 19ms/step - loss: 0.0196 - mse: 0.0196 - mae: 0.1121 - val_loss: 0.0181 - val_mse: 0.0181 - val_mae: 0.1091\n",
      "Epoch 188/200\n",
      "2/2 [==============================] - 0s 19ms/step - loss: 0.0194 - mse: 0.0194 - mae: 0.1112 - val_loss: 0.0180 - val_mse: 0.0180 - val_mae: 0.1080\n",
      "Epoch 189/200\n",
      "2/2 [==============================] - 0s 19ms/step - loss: 0.0191 - mse: 0.0191 - mae: 0.1099 - val_loss: 0.0178 - val_mse: 0.0178 - val_mae: 0.1069\n",
      "Epoch 190/200\n",
      "2/2 [==============================] - 0s 19ms/step - loss: 0.0189 - mse: 0.0189 - mae: 0.1089 - val_loss: 0.0176 - val_mse: 0.0176 - val_mae: 0.1057\n",
      "Epoch 191/200\n",
      "2/2 [==============================] - 0s 19ms/step - loss: 0.0187 - mse: 0.0187 - mae: 0.1078 - val_loss: 0.0174 - val_mse: 0.0174 - val_mae: 0.1049\n",
      "Epoch 192/200\n",
      "2/2 [==============================] - 0s 19ms/step - loss: 0.0185 - mse: 0.0185 - mae: 0.1068 - val_loss: 0.0172 - val_mse: 0.0172 - val_mae: 0.1043\n",
      "Epoch 193/200\n",
      "2/2 [==============================] - 0s 19ms/step - loss: 0.0183 - mse: 0.0183 - mae: 0.1062 - val_loss: 0.0169 - val_mse: 0.0169 - val_mae: 0.1034\n",
      "Epoch 194/200\n",
      "2/2 [==============================] - 0s 19ms/step - loss: 0.0182 - mse: 0.0182 - mae: 0.1056 - val_loss: 0.0168 - val_mse: 0.0168 - val_mae: 0.1030\n",
      "Epoch 195/200\n",
      "2/2 [==============================] - 0s 19ms/step - loss: 0.0181 - mse: 0.0181 - mae: 0.1054 - val_loss: 0.0167 - val_mse: 0.0167 - val_mae: 0.1028\n",
      "Epoch 196/200\n",
      "2/2 [==============================] - 0s 19ms/step - loss: 0.0180 - mse: 0.0180 - mae: 0.1054 - val_loss: 0.0166 - val_mse: 0.0166 - val_mae: 0.1025\n",
      "Epoch 197/200\n",
      "2/2 [==============================] - 0s 19ms/step - loss: 0.0178 - mse: 0.0178 - mae: 0.1049 - val_loss: 0.0166 - val_mse: 0.0166 - val_mae: 0.1022\n",
      "Epoch 198/200\n",
      "2/2 [==============================] - 0s 19ms/step - loss: 0.0177 - mse: 0.0177 - mae: 0.1044 - val_loss: 0.0166 - val_mse: 0.0166 - val_mae: 0.1019\n",
      "Epoch 199/200\n",
      "2/2 [==============================] - 0s 19ms/step - loss: 0.0176 - mse: 0.0176 - mae: 0.1038 - val_loss: 0.0165 - val_mse: 0.0165 - val_mae: 0.1015\n",
      "Epoch 200/200\n",
      "2/2 [==============================] - 0s 19ms/step - loss: 0.0175 - mse: 0.0175 - mae: 0.1030 - val_loss: 0.0165 - val_mse: 0.0165 - val_mae: 0.1014\n",
      "Model: \"sequential_10\"\n",
      "_________________________________________________________________\n",
      "Layer (type)                 Output Shape              Param #   \n",
      "=================================================================\n",
      "dense_30 (Dense)             (None, 22)                484       \n",
      "_________________________________________________________________\n",
      "dense_31 (Dense)             (None, 4)                 92        \n",
      "_________________________________________________________________\n",
      "dense_32 (Dense)             (None, 1)                 5         \n",
      "=================================================================\n",
      "Total params: 581\n",
      "Trainable params: 581\n",
      "Non-trainable params: 0\n",
      "_________________________________________________________________\n"
     ]
    }
   ],
   "source": [
    "NN_model = Sequential()\n",
    "\n",
    "# Input Layer :\n",
    "NN_model.add(Dense(22, input_dim=21, kernel_initializer='normal', activation='relu'))\n",
    "# Hidden Layer:\n",
    "NN_model.add(Dense(4, activation='relu'))\n",
    "# Output Layer:\n",
    "NN_model.add(Dense(1, activation='linear'))\n",
    "\n",
    "optimizer = tf.keras.optimizers.Adam(learning_rate=0.0005)\n",
    "\n",
    "NN_model.compile(loss='mse', optimizer='adam', metrics=['mse', 'mae'])\n",
    "history = NN_model.fit(xtrain_scale, ytrain_scale, epochs=200, batch_size=64, verbose=1, validation_split=0.2)\n",
    "predictions = NN_model.predict(xval_scale)\n",
    "\n",
    "NN_model.summary()"
   ]
  },
  {
   "cell_type": "code",
   "execution_count": 88,
   "metadata": {},
   "outputs": [
    {
     "name": "stdout",
     "output_type": "stream",
     "text": [
      "dict_keys(['loss', 'mse', 'mae', 'val_loss', 'val_mse', 'val_mae'])\n"
     ]
    },
    {
     "data": {
      "image/png": "[encoded data removed]",
      "text/plain": [
       "<Figure size 432x288 with 1 Axes>"
      ]
     },
     "metadata": {
      "needs_background": "light"
     },
     "output_type": "display_data"
    }
   ],
   "source": [
    "print(history.history.keys())\n",
    "# \"Loss\"\n",
    "plt.plot(history.history['loss'])\n",
    "plt.plot(history.history['val_loss'])\n",
    "plt.title('model loss')\n",
    "plt.ylabel('loss')\n",
    "plt.xlabel('epoch')\n",
    "plt.legend(['train', 'validation'], loc='upper right')\n",
    "plt.show()"
   ]
  },
  {
   "cell_type": "code",
   "execution_count": 89,
   "metadata": {},
   "outputs": [
    {
     "data": {
      "text/plain": [
       "(22, 1)"
      ]
     },
     "execution_count": 89,
     "metadata": {},
     "output_type": "execute_result"
    }
   ],
   "source": [
    "predictions = scaler_y.inverse_transform(predictions)\n",
    "predictions.shape"
   ]
  },
  {
   "cell_type": "code",
   "execution_count": 90,
   "metadata": {},
   "outputs": [
    {
     "data": {
      "text/plain": [
       "0.2602712479504673"
      ]
     },
     "execution_count": 90,
     "metadata": {},
     "output_type": "execute_result"
    }
   ],
   "source": [
    "mean_absolute_error(y_val, predictions)"
   ]
  },
  {
   "cell_type": "code",
   "execution_count": 91,
   "metadata": {},
   "outputs": [
    {
     "data": {
      "text/plain": [
       "0.3138094109156074"
      ]
     },
     "execution_count": 91,
     "metadata": {},
     "output_type": "execute_result"
    }
   ],
   "source": [
    "mean_squared_error(y_val, predictions)\n",
    "math.sqrt(mean_squared_error(y_val, predictions))"
   ]
  },
  {
   "cell_type": "code",
   "execution_count": 92,
   "metadata": {},
   "outputs": [
    {
     "data": {
      "text/plain": [
       "3.670454545454545"
      ]
     },
     "execution_count": 92,
     "metadata": {},
     "output_type": "execute_result"
    }
   ],
   "source": [
    "np.mean(y_val)"
   ]
  },
  {
   "cell_type": "code",
   "execution_count": 93,
   "metadata": {},
   "outputs": [
    {
     "data": {
      "text/plain": [
       "3.827482"
      ]
     },
     "execution_count": 93,
     "metadata": {},
     "output_type": "execute_result"
    }
   ],
   "source": [
    "np.mean(predictions)"
   ]
  },
  {
   "cell_type": "markdown",
   "metadata": {},
   "source": [
    "types of regression models <br>\n",
    "NN properties - layer count, learning rate, number of neurons <br>\n",
    "chemical descriptors <br> \n",
    "look for databases - incorporate more data"
   ]
  }
 ],
 "metadata": {
  "kernelspec": {
   "display_name": "Python 2",
   "language": "python",
   "name": "python2"
  },
  "language_info": {
   "codemirror_mode": {
    "name": "ipython",
    "version": 2
   },
   "file_extension": ".py",
   "mimetype": "text/x-python",
   "name": "python",
   "nbconvert_exporter": "python",
   "pygments_lexer": "ipython2",
   "version": "2.7.18"
  }
 },
 "nbformat": 4,
 "nbformat_minor": 5
}
