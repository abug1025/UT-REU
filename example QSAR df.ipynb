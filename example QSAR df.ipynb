{
 "cells": [
  {
   "cell_type": "code",
   "execution_count": 1,
   "id": "f059ad79",
   "metadata": {},
   "outputs": [],
   "source": [
    "from rdkit import RDLogger, Chem, DataStructs\n",
    "from rdkit.Chem import AllChem, Draw, Descriptors, Lipinski\n",
    "from rdkit.Chem.Draw import IPythonConsole\n",
    "RDLogger.DisableLog('rdApp.*')\n",
    "\n",
    "import numpy as np\n",
    "import pandas as pd"
   ]
  },
  {
   "cell_type": "code",
   "execution_count": 2,
   "id": "e11c4a42",
   "metadata": {},
   "outputs": [
    {
     "data": {
      "image/png": "[encoded data removed]",
      "text/plain": [
       "<rdkit.Chem.rdchem.Mol at 0x1509e6e20>"
      ]
     },
     "execution_count": 2,
     "metadata": {},
     "output_type": "execute_result"
    }
   ],
   "source": [
    "ex = Chem.MolFromSmiles('CC1CCCC(C)N1C(=O)c1ccc(C(=O)O)cc1')\n",
    "ex"
   ]
  },
  {
   "cell_type": "code",
   "execution_count": 3,
   "id": "d491bd88",
   "metadata": {},
   "outputs": [
    {
     "name": "stdout",
     "output_type": "stream",
     "text": [
      "2 0.4666666666666667 19 1 4 0 1 1 1 0 1 2 1 4 2 0 1 1 2\n"
     ]
    }
   ],
   "source": [
    "print(Lipinski.NumHAcceptors(ex), \n",
    "      Lipinski.FractionCSP3(ex), \n",
    "      Lipinski.HeavyAtomCount(ex), \n",
    "      Lipinski.NHOHCount(ex), \n",
    "      Lipinski.NOCount(ex),\n",
    "      Lipinski.NumAliphaticCarbocycles(ex),\n",
    "      Lipinski.NumAliphaticHeterocycles(ex),\n",
    "      Lipinski.NumAliphaticRings(ex),\n",
    "      Lipinski.NumAromaticCarbocycles(ex),\n",
    "      Lipinski.NumAromaticHeterocycles(ex),\n",
    "      Lipinski.NumAromaticRings(ex),\n",
    "      Lipinski.NumHAcceptors(ex),\n",
    "      Lipinski.NumHDonors(ex),\n",
    "      Lipinski.NumHeteroatoms(ex),\n",
    "      Lipinski.NumRotatableBonds(ex),\n",
    "      Lipinski.NumSaturatedCarbocycles(ex),\n",
    "      Lipinski.NumSaturatedHeterocycles(ex),\n",
    "      Lipinski.NumSaturatedRings(ex),\n",
    "      Lipinski.RingCount(ex))"
   ]
  },
  {
   "cell_type": "markdown",
   "id": "226212d3",
   "metadata": {},
   "source": [
    "ultimately the ones that i would like to use include: MolWt, MolLogP, NumHDonors, NumHAcceptors, TPSA, NumRotatableBonds"
   ]
  },
  {
   "cell_type": "code",
   "execution_count": 4,
   "id": "a5eec818",
   "metadata": {},
   "outputs": [
    {
     "data": {
      "text/plain": [
       "2"
      ]
     },
     "execution_count": 4,
     "metadata": {},
     "output_type": "execute_result"
    }
   ],
   "source": [
    "Descriptors.MolWt(ex)\n",
    "Descriptors.MolLogP(ex)\n",
    "Descriptors.NumHDonors(ex)\n",
    "Descriptors.NumHAcceptors(ex)\n",
    "Descriptors.TPSA(ex)\n",
    "Descriptors.NumRotatableBonds(ex)"
   ]
  },
  {
   "cell_type": "code",
   "execution_count": 5,
   "id": "2a61ee38",
   "metadata": {},
   "outputs": [],
   "source": [
    "def smiles2mols(smiles_list):\n",
    "\n",
    "    mols_list = []\n",
    "    \n",
    "    for smiles in smiles_list:\n",
    "        mol = Chem.MolFromSmiles(smiles)\n",
    "        if mol != None:\n",
    "            mols_list.append(mol)\n",
    "    \n",
    "    invalid = len(smiles_list) - len(mols_list)\n",
    "    \n",
    "    print('Number of Invalid: ', invalid)\n",
    "    \n",
    "    return mols_list"
   ]
  },
  {
   "cell_type": "code",
   "execution_count": 15,
   "id": "2b23f9f2",
   "metadata": {},
   "outputs": [],
   "source": [
    "def gen_descriptors(smiles_list):\n",
    "    \n",
    "    descriptors_list = []\n",
    "    num_smiles = len(smiles_list)\n",
    "    num_descriptors = 21\n",
    "    \n",
    "    for smiles in smiles_list:\n",
    "        row = [Descriptors.MolWt(smiles), \n",
    "               Descriptors.MolLogP(smiles), \n",
    "               Descriptors.NumHDonors(smiles), \n",
    "               Descriptors.NumHAcceptors(smiles), \n",
    "               Descriptors.TPSA(smiles), \n",
    "               Descriptors.NumRotatableBonds(smiles),\n",
    "               \n",
    "               Lipinski.FractionCSP3(smiles), \n",
    "               Lipinski.HeavyAtomCount(smiles), \n",
    "               Lipinski.NHOHCount(smiles), \n",
    "               Lipinski.NOCount(smiles),\n",
    "               Lipinski.NumAliphaticCarbocycles(smiles),\n",
    "               Lipinski.NumAliphaticHeterocycles(smiles),\n",
    "               Lipinski.NumAliphaticRings(smiles),\n",
    "               Lipinski.NumAromaticCarbocycles(smiles),\n",
    "               Lipinski.NumAromaticHeterocycles(smiles),\n",
    "               Lipinski.NumAromaticRings(smiles),\n",
    "               Lipinski.NumHeteroatoms(smiles),\n",
    "               Lipinski.NumSaturatedCarbocycles(smiles),\n",
    "               Lipinski.NumSaturatedHeterocycles(smiles),\n",
    "               Lipinski.NumSaturatedRings(smiles),\n",
    "               Lipinski.RingCount(smiles)]\n",
    "        \n",
    "        descriptors_list = np.concatenate((descriptors_list, row), axis=0)\n",
    "        \n",
    "    descriptors_list = descriptors_list.reshape(num_smiles, num_descriptors)\n",
    "    \n",
    "    headers = ['MolWt', \n",
    "               'MolLogP', \n",
    "               'NumHDonors', \n",
    "               'NumHAcceptors', \n",
    "               'TPSA', \n",
    "               'NumRotatableBonds', \n",
    "               'FractionCSP3', \n",
    "               'HeavyAtomCount', \n",
    "               'NHOHCount', \n",
    "               'NOCount', \n",
    "               'NumAliphaticCarbocycles', \n",
    "               'NumAliphaticHeterocycles', \n",
    "               'NumAliphaticRings', \n",
    "               'NumAromaticCarbocycles', \n",
    "               'NumAromaticHeterocycles', \n",
    "               'NumAromaticRings', \n",
    "               'NumHeteroatoms', \n",
    "               'NumSaturatedCarbocycles', \n",
    "               'NumSaturatedHeterocycles', \n",
    "               'NumSaturatedRings', \n",
    "               'RingCount']\n",
    "    \n",
    "    print('Number of headers: ' + str(len(headers)))\n",
    "\n",
    "    df = pd.DataFrame(descriptors_list, columns = headers) \n",
    "    \n",
    "    return df"
   ]
  },
  {
   "cell_type": "markdown",
   "id": "4a738872",
   "metadata": {},
   "source": [
    "Something to consider: pairwise diversity between molecules in the dataset - can make diversity dataset"
   ]
  },
  {
   "cell_type": "code",
   "execution_count": 11,
   "id": "4cd1ef61",
   "metadata": {},
   "outputs": [
    {
     "data": {
      "text/plain": [
       "0                     CC1CCCC(C)N1C(=O)c1ccc(C(=O)O)cc1\n",
       "1      COc1cc(C=CC(=O)OCC(=O)NC(Cc2ccccc2)C(=O)OC)ccc1O\n",
       "2     CC(C)(C)Oc1cc2nc(SCc3ccccc3)nc(N3CCN(C4CCCCCC4...\n",
       "3                     COc1cccc2c1CN(C(=O)c1ccc(C)o1)CC2\n",
       "4                N#Cc1ccc(N2CCCC(C(=O)NCc3ccccc3)C2)cc1\n",
       "                            ...                        \n",
       "95                 CN(C)CCCC(=O)NC(c1ccc(F)cc1)c1cccnc1\n",
       "96    CC(C)(CC(=O)Nc1cc(C(F)(F)F)ccc1Cl)c1ccc(Cl)c(N...\n",
       "97            COc1ccc(C(=O)Nc2cccc(C(=O)NC3CC3)c2)cc1OC\n",
       "98                      COC(=O)c1ccc(C(=O)NC(C)CC#N)cc1\n",
       "99     CC1(C)Cc2c(sc3ccc(S(=O)(=O)C4CCCCC4)cc23)OC1(C)O\n",
       "Name: 0, Length: 100, dtype: object"
      ]
     },
     "execution_count": 11,
     "metadata": {},
     "output_type": "execute_result"
    }
   ],
   "source": [
    "sample = pd.read_csv(r'/Users/alee224/Desktop/AI Drug Discovery/Fibroblast Activating Protein Project/QSAR/sampled_smiles.csv', header = None)\n",
    "sample[0]"
   ]
  },
  {
   "cell_type": "code",
   "execution_count": 12,
   "id": "37c0b558",
   "metadata": {},
   "outputs": [
    {
     "name": "stdout",
     "output_type": "stream",
     "text": [
      "Number of Invalid:  8\n"
     ]
    }
   ],
   "source": [
    "rough_sampled_smiles = []\n",
    "\n",
    "for smiles in sample[0]:\n",
    "    rough_sampled_smiles.append(smiles)\n",
    "    \n",
    "mols = smiles2mols(rough_sampled_smiles)\n",
    "#mols"
   ]
  },
  {
   "cell_type": "code",
   "execution_count": 16,
   "id": "6cfd2176",
   "metadata": {},
   "outputs": [
    {
     "name": "stdout",
     "output_type": "stream",
     "text": [
      "Number of headers: 21\n"
     ]
    },
    {
     "data": {
      "text/html": [
       "<div>\n",
       "<style scoped>\n",
       "    .dataframe tbody tr th:only-of-type {\n",
       "        vertical-align: middle;\n",
       "    }\n",
       "\n",
       "    .dataframe tbody tr th {\n",
       "        vertical-align: top;\n",
       "    }\n",
       "\n",
       "    .dataframe thead th {\n",
       "        text-align: right;\n",
       "    }\n",
       "</style>\n",
       "<table border=\"1\" class=\"dataframe\">\n",
       "  <thead>\n",
       "    <tr style=\"text-align: right;\">\n",
       "      <th></th>\n",
       "      <th>MolWt</th>\n",
       "      <th>MolLogP</th>\n",
       "      <th>NumHDonors</th>\n",
       "      <th>NumHAcceptors</th>\n",
       "      <th>TPSA</th>\n",
       "      <th>NumRotatableBonds</th>\n",
       "      <th>FractionCSP3</th>\n",
       "      <th>HeavyAtomCount</th>\n",
       "      <th>NHOHCount</th>\n",
       "      <th>NOCount</th>\n",
       "      <th>...</th>\n",
       "      <th>NumAliphaticHeterocycles</th>\n",
       "      <th>NumAliphaticRings</th>\n",
       "      <th>NumAromaticCarbocycles</th>\n",
       "      <th>NumAromaticHeterocycles</th>\n",
       "      <th>NumAromaticRings</th>\n",
       "      <th>NumHeteroatoms</th>\n",
       "      <th>NumSaturatedCarbocycles</th>\n",
       "      <th>NumSaturatedHeterocycles</th>\n",
       "      <th>NumSaturatedRings</th>\n",
       "      <th>RingCount</th>\n",
       "    </tr>\n",
       "  </thead>\n",
       "  <tbody>\n",
       "    <tr>\n",
       "      <th>0</th>\n",
       "      <td>261.321</td>\n",
       "      <td>2.78790</td>\n",
       "      <td>1.0</td>\n",
       "      <td>2.0</td>\n",
       "      <td>57.61</td>\n",
       "      <td>2.0</td>\n",
       "      <td>0.466667</td>\n",
       "      <td>19.0</td>\n",
       "      <td>1.0</td>\n",
       "      <td>4.0</td>\n",
       "      <td>...</td>\n",
       "      <td>1.0</td>\n",
       "      <td>1.0</td>\n",
       "      <td>1.0</td>\n",
       "      <td>0.0</td>\n",
       "      <td>1.0</td>\n",
       "      <td>4.0</td>\n",
       "      <td>0.0</td>\n",
       "      <td>1.0</td>\n",
       "      <td>1.0</td>\n",
       "      <td>2.0</td>\n",
       "    </tr>\n",
       "    <tr>\n",
       "      <th>1</th>\n",
       "      <td>413.426</td>\n",
       "      <td>1.85770</td>\n",
       "      <td>2.0</td>\n",
       "      <td>7.0</td>\n",
       "      <td>111.16</td>\n",
       "      <td>9.0</td>\n",
       "      <td>0.227273</td>\n",
       "      <td>30.0</td>\n",
       "      <td>2.0</td>\n",
       "      <td>8.0</td>\n",
       "      <td>...</td>\n",
       "      <td>0.0</td>\n",
       "      <td>0.0</td>\n",
       "      <td>2.0</td>\n",
       "      <td>0.0</td>\n",
       "      <td>2.0</td>\n",
       "      <td>8.0</td>\n",
       "      <td>0.0</td>\n",
       "      <td>0.0</td>\n",
       "      <td>0.0</td>\n",
       "      <td>2.0</td>\n",
       "    </tr>\n",
       "    <tr>\n",
       "      <th>2</th>\n",
       "      <td>522.734</td>\n",
       "      <td>7.08330</td>\n",
       "      <td>0.0</td>\n",
       "      <td>6.0</td>\n",
       "      <td>41.49</td>\n",
       "      <td>6.0</td>\n",
       "      <td>0.533333</td>\n",
       "      <td>37.0</td>\n",
       "      <td>0.0</td>\n",
       "      <td>5.0</td>\n",
       "      <td>...</td>\n",
       "      <td>1.0</td>\n",
       "      <td>2.0</td>\n",
       "      <td>2.0</td>\n",
       "      <td>1.0</td>\n",
       "      <td>3.0</td>\n",
       "      <td>7.0</td>\n",
       "      <td>1.0</td>\n",
       "      <td>1.0</td>\n",
       "      <td>2.0</td>\n",
       "      <td>5.0</td>\n",
       "    </tr>\n",
       "    <tr>\n",
       "      <th>3</th>\n",
       "      <td>271.316</td>\n",
       "      <td>2.79512</td>\n",
       "      <td>0.0</td>\n",
       "      <td>3.0</td>\n",
       "      <td>42.68</td>\n",
       "      <td>2.0</td>\n",
       "      <td>0.312500</td>\n",
       "      <td>20.0</td>\n",
       "      <td>0.0</td>\n",
       "      <td>4.0</td>\n",
       "      <td>...</td>\n",
       "      <td>1.0</td>\n",
       "      <td>1.0</td>\n",
       "      <td>1.0</td>\n",
       "      <td>1.0</td>\n",
       "      <td>2.0</td>\n",
       "      <td>4.0</td>\n",
       "      <td>0.0</td>\n",
       "      <td>0.0</td>\n",
       "      <td>0.0</td>\n",
       "      <td>3.0</td>\n",
       "    </tr>\n",
       "    <tr>\n",
       "      <th>4</th>\n",
       "      <td>319.408</td>\n",
       "      <td>3.09108</td>\n",
       "      <td>1.0</td>\n",
       "      <td>3.0</td>\n",
       "      <td>56.13</td>\n",
       "      <td>4.0</td>\n",
       "      <td>0.300000</td>\n",
       "      <td>24.0</td>\n",
       "      <td>1.0</td>\n",
       "      <td>4.0</td>\n",
       "      <td>...</td>\n",
       "      <td>1.0</td>\n",
       "      <td>1.0</td>\n",
       "      <td>2.0</td>\n",
       "      <td>0.0</td>\n",
       "      <td>2.0</td>\n",
       "      <td>4.0</td>\n",
       "      <td>0.0</td>\n",
       "      <td>1.0</td>\n",
       "      <td>1.0</td>\n",
       "      <td>3.0</td>\n",
       "    </tr>\n",
       "  </tbody>\n",
       "</table>\n",
       "<p>5 rows × 21 columns</p>\n",
       "</div>"
      ],
      "text/plain": [
       "     MolWt  MolLogP  NumHDonors  NumHAcceptors    TPSA  NumRotatableBonds  \\\n",
       "0  261.321  2.78790         1.0            2.0   57.61                2.0   \n",
       "1  413.426  1.85770         2.0            7.0  111.16                9.0   \n",
       "2  522.734  7.08330         0.0            6.0   41.49                6.0   \n",
       "3  271.316  2.79512         0.0            3.0   42.68                2.0   \n",
       "4  319.408  3.09108         1.0            3.0   56.13                4.0   \n",
       "\n",
       "   FractionCSP3  HeavyAtomCount  NHOHCount  NOCount  ...  \\\n",
       "0      0.466667            19.0        1.0      4.0  ...   \n",
       "1      0.227273            30.0        2.0      8.0  ...   \n",
       "2      0.533333            37.0        0.0      5.0  ...   \n",
       "3      0.312500            20.0        0.0      4.0  ...   \n",
       "4      0.300000            24.0        1.0      4.0  ...   \n",
       "\n",
       "   NumAliphaticHeterocycles  NumAliphaticRings  NumAromaticCarbocycles  \\\n",
       "0                       1.0                1.0                     1.0   \n",
       "1                       0.0                0.0                     2.0   \n",
       "2                       1.0                2.0                     2.0   \n",
       "3                       1.0                1.0                     1.0   \n",
       "4                       1.0                1.0                     2.0   \n",
       "\n",
       "   NumAromaticHeterocycles  NumAromaticRings  NumHeteroatoms  \\\n",
       "0                      0.0               1.0             4.0   \n",
       "1                      0.0               2.0             8.0   \n",
       "2                      1.0               3.0             7.0   \n",
       "3                      1.0               2.0             4.0   \n",
       "4                      0.0               2.0             4.0   \n",
       "\n",
       "   NumSaturatedCarbocycles  NumSaturatedHeterocycles  NumSaturatedRings  \\\n",
       "0                      0.0                       1.0                1.0   \n",
       "1                      0.0                       0.0                0.0   \n",
       "2                      1.0                       1.0                2.0   \n",
       "3                      0.0                       0.0                0.0   \n",
       "4                      0.0                       1.0                1.0   \n",
       "\n",
       "   RingCount  \n",
       "0        2.0  \n",
       "1        2.0  \n",
       "2        5.0  \n",
       "3        3.0  \n",
       "4        3.0  \n",
       "\n",
       "[5 rows x 21 columns]"
      ]
     },
     "execution_count": 16,
     "metadata": {},
     "output_type": "execute_result"
    }
   ],
   "source": [
    "gen_descriptors(mols).head()"
   ]
  },
  {
   "cell_type": "code",
   "execution_count": null,
   "id": "e720e674",
   "metadata": {},
   "outputs": [],
   "source": []
  }
 ],
 "metadata": {
  "kernelspec": {
   "display_name": "Python 3",
   "language": "python",
   "name": "python3"
  },
  "language_info": {
   "codemirror_mode": {
    "name": "ipython",
    "version": 3
   },
   "file_extension": ".py",
   "mimetype": "text/x-python",
   "name": "python",
   "nbconvert_exporter": "python",
   "pygments_lexer": "ipython3",
   "version": "3.9.4"
  }
 },
 "nbformat": 4,
 "nbformat_minor": 5
}
