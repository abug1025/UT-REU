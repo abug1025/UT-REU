{
 "cells": [
  {
   "cell_type": "code",
   "execution_count": 3,
   "id": "f059ad79",
   "metadata": {},
   "outputs": [],
   "source": [
    "from rdkit import RDLogger, Chem, DataStructs\n",
    "from rdkit.Chem import AllChem, Draw, Descriptors, Lipinski\n",
    "from rdkit.Chem.Draw import IPythonConsole\n",
    "RDLogger.DisableLog('rdApp.*')\n",
    "\n",
    "import numpy as np\n",
    "import pandas as pd"
   ]
  },
  {
   "cell_type": "code",
   "execution_count": 32,
   "id": "2bfdb9ef",
   "metadata": {},
   "outputs": [
    {
     "data": {
      "image/png": "[encoded data removed]",
      "text/plain": [
       "<rdkit.Chem.rdchem.Mol at 0x14e3c91c0>"
      ]
     },
     "execution_count": 32,
     "metadata": {},
     "output_type": "execute_result"
    }
   ],
   "source": [
    "ex = Chem.MolFromSmiles('CC1CCCC(C)N1C(=O)c1ccc(C(=O)O)cc1')\n",
    "ex"
   ]
  },
  {
   "cell_type": "code",
   "execution_count": 33,
   "id": "d491bd88",
   "metadata": {},
   "outputs": [
    {
     "name": "stdout",
     "output_type": "stream",
     "text": [
      "2 0.4666666666666667 19 1 4 0 1 1 1 0 1 2 1 4 2 0 1 1 2\n"
     ]
    }
   ],
   "source": [
    "print(Lipinski.NumHAcceptors(ex), \n",
    "      Lipinski.FractionCSP3(ex), \n",
    "      Lipinski.HeavyAtomCount(ex), \n",
    "      Lipinski.NHOHCount(ex), \n",
    "      Lipinski.NOCount(ex),\n",
    "      Lipinski.NumAliphaticCarbocycles(ex),\n",
    "      Lipinski.NumAliphaticHeterocycles(ex),\n",
    "      Lipinski.NumAliphaticRings(ex),\n",
    "      Lipinski.NumAromaticCarbocycles(ex),\n",
    "      Lipinski.NumAromaticHeterocycles(ex),\n",
    "      Lipinski.NumAromaticRings(ex),\n",
    "      Lipinski.NumHAcceptors(ex),\n",
    "      Lipinski.NumHDonors(ex),\n",
    "      Lipinski.NumHeteroatoms(ex),\n",
    "      Lipinski.NumRotatableBonds(ex),\n",
    "      Lipinski.NumSaturatedCarbocycles(ex),\n",
    "      Lipinski.NumSaturatedHeterocycles(ex),\n",
    "      Lipinski.NumSaturatedRings(ex),\n",
    "      Lipinski.RingCount(ex))"
   ]
  },
  {
   "cell_type": "markdown",
   "id": "226212d3",
   "metadata": {},
   "source": [
    "ultimately the ones that i would like to use include: MolWt, MolLogP, NumHDonors, NumHAcceptors, TPSA, NumRotatableBonds"
   ]
  },
  {
   "cell_type": "code",
   "execution_count": 34,
   "id": "a5eec818",
   "metadata": {},
   "outputs": [
    {
     "data": {
      "text/plain": [
       "2"
      ]
     },
     "execution_count": 34,
     "metadata": {},
     "output_type": "execute_result"
    }
   ],
   "source": [
    "Descriptors.MolWt(ex)\n",
    "Descriptors.MolLogP(ex)\n",
    "Descriptors.NumHDonors(ex)\n",
    "Descriptors.NumHAcceptors(ex)\n",
    "Descriptors.TPSA(ex)\n",
    "Descriptors.NumRotatableBonds(ex)"
   ]
  },
  {
   "cell_type": "code",
   "execution_count": 35,
   "id": "2a61ee38",
   "metadata": {},
   "outputs": [],
   "source": [
    "def smiles2mols(smiles_list):\n",
    "\n",
    "    mols_list = []\n",
    "    \n",
    "    for smiles in smiles_list:\n",
    "        mol = Chem.MolFromSmiles(smiles)\n",
    "        mols_list.append(mol)\n",
    "    \n",
    "    return mols_list"
   ]
  },
  {
   "cell_type": "code",
   "execution_count": 36,
   "id": "39ff3958",
   "metadata": {},
   "outputs": [],
   "source": [
    "def gen_descriptors(smiles_list):\n",
    "    \n",
    "    descriptors_list = []\n",
    "    num_smiles = len(smiles_list)\n",
    "    num_descriptors = 21\n",
    "    \n",
    "    for smiles in smiles_list:\n",
    "        row = [Descriptors.MolWt(smiles), \n",
    "               Descriptors.MolLogP(smiles), \n",
    "               Descriptors.NumHDonors(smiles), \n",
    "               Descriptors.NumHAcceptors(smiles), \n",
    "               Descriptors.TPSA(smiles), \n",
    "               Descriptors.NumRotatableBonds(smiles),\n",
    "               \n",
    "               Lipinski.FractionCSP3(smiles), \n",
    "               Lipinski.HeavyAtomCount(smiles), \n",
    "               Lipinski.NHOHCount(smiles), \n",
    "               Lipinski.NOCount(smiles),\n",
    "               Lipinski.NumAliphaticCarbocycles(smiles),\n",
    "               Lipinski.NumAliphaticHeterocycles(smiles),\n",
    "               Lipinski.NumAliphaticRings(smiles),\n",
    "               Lipinski.NumAromaticCarbocycles(smiles),\n",
    "               Lipinski.NumAromaticHeterocycles(smiles),\n",
    "               Lipinski.NumAromaticRings(smiles),\n",
    "               Lipinski.NumHeteroatoms(smiles),\n",
    "               Lipinski.NumSaturatedCarbocycles(smiles),\n",
    "               Lipinski.NumSaturatedHeterocycles(smiles),\n",
    "               Lipinski.NumSaturatedRings(smiles),\n",
    "               Lipinski.RingCount(smiles)]\n",
    "        \n",
    "        descriptors_list = np.concatenate((descriptors_list, row), axis=0)\n",
    "        \n",
    "    descriptors_list = descriptors_list.reshape(num_smiles, num_descriptors)\n",
    "    \n",
    "    return descriptors_list"
   ]
  },
  {
   "cell_type": "markdown",
   "id": "4a738872",
   "metadata": {},
   "source": [
    "Something to consider: pairwise diversity between molecules in the dataset - can make diversity dataset"
   ]
  },
  {
   "cell_type": "code",
   "execution_count": 37,
   "id": "d2ada739",
   "metadata": {},
   "outputs": [
    {
     "data": {
      "image/png": "[encoded data removed]",
      "text/plain": [
       "<rdkit.Chem.rdchem.Mol at 0x14e3cfd00>"
      ]
     },
     "execution_count": 37,
     "metadata": {},
     "output_type": "execute_result"
    }
   ],
   "source": [
    "# First nanoparticle from the qnar paper\n",
    "Chem.MolFromSmiles('FC(F)(F)C(=O)OC(=O)C(F)(F)F')"
   ]
  },
  {
   "cell_type": "code",
   "execution_count": 38,
   "id": "4cd1ef61",
   "metadata": {},
   "outputs": [],
   "source": [
    "# First 3 nanoparticles from the qnar paper compiled into a list\n",
    "qnar_list = ['FC(F)(F)C(=O)OC(=O)C(F)(F)F', 'FC(F)(Cl)C(=O)OC(=O)C(F)(F)Cl', 'FC(F)(F)C(F)(F)C(=O)OC(=O)C(F)(F)C(F)(F)F']"
   ]
  },
  {
   "cell_type": "code",
   "execution_count": 40,
   "id": "47ab73dd",
   "metadata": {},
   "outputs": [],
   "source": [
    "mols = smiles2mols(qnar_list)\n",
    "descriptors = gen_descriptors(mols)"
   ]
  },
  {
   "cell_type": "code",
   "execution_count": 43,
   "id": "0d8b8ef2",
   "metadata": {},
   "outputs": [
    {
     "data": {
      "text/html": [
       "<div>\n",
       "<style scoped>\n",
       "    .dataframe tbody tr th:only-of-type {\n",
       "        vertical-align: middle;\n",
       "    }\n",
       "\n",
       "    .dataframe tbody tr th {\n",
       "        vertical-align: top;\n",
       "    }\n",
       "\n",
       "    .dataframe thead th {\n",
       "        text-align: right;\n",
       "    }\n",
       "</style>\n",
       "<table border=\"1\" class=\"dataframe\">\n",
       "  <thead>\n",
       "    <tr style=\"text-align: right;\">\n",
       "      <th></th>\n",
       "      <th>MolWt</th>\n",
       "      <th>MolLogP</th>\n",
       "      <th>NumHDonors</th>\n",
       "      <th>NumHAcceptors</th>\n",
       "      <th>TPSA</th>\n",
       "      <th>NumRotatableBonds</th>\n",
       "      <th>FractionCSP3</th>\n",
       "      <th>HeavyAtomCount</th>\n",
       "      <th>NHOHCount</th>\n",
       "      <th>NOCount</th>\n",
       "      <th>...</th>\n",
       "      <th>NumAliphaticHeterocycles</th>\n",
       "      <th>NumAliphaticRings</th>\n",
       "      <th>NumAromaticCarbocycles</th>\n",
       "      <th>NumAromaticHeterocycles</th>\n",
       "      <th>NumAromaticRings</th>\n",
       "      <th>NumHeteroatoms</th>\n",
       "      <th>NumSaturatedCarbocycles</th>\n",
       "      <th>NumSaturatedHeterocycles</th>\n",
       "      <th>NumSaturatedRings</th>\n",
       "      <th>RingCount</th>\n",
       "    </tr>\n",
       "  </thead>\n",
       "  <tbody>\n",
       "    <tr>\n",
       "      <th>0</th>\n",
       "      <td>210.029</td>\n",
       "      <td>1.1808</td>\n",
       "      <td>0.0</td>\n",
       "      <td>3.0</td>\n",
       "      <td>43.37</td>\n",
       "      <td>0.0</td>\n",
       "      <td>0.500000</td>\n",
       "      <td>13.0</td>\n",
       "      <td>0.0</td>\n",
       "      <td>3.0</td>\n",
       "      <td>...</td>\n",
       "      <td>0.0</td>\n",
       "      <td>0.0</td>\n",
       "      <td>0.0</td>\n",
       "      <td>0.0</td>\n",
       "      <td>0.0</td>\n",
       "      <td>9.0</td>\n",
       "      <td>0.0</td>\n",
       "      <td>0.0</td>\n",
       "      <td>0.0</td>\n",
       "      <td>0.0</td>\n",
       "    </tr>\n",
       "    <tr>\n",
       "      <th>1</th>\n",
       "      <td>242.939</td>\n",
       "      <td>1.7194</td>\n",
       "      <td>0.0</td>\n",
       "      <td>3.0</td>\n",
       "      <td>43.37</td>\n",
       "      <td>2.0</td>\n",
       "      <td>0.500000</td>\n",
       "      <td>13.0</td>\n",
       "      <td>0.0</td>\n",
       "      <td>3.0</td>\n",
       "      <td>...</td>\n",
       "      <td>0.0</td>\n",
       "      <td>0.0</td>\n",
       "      <td>0.0</td>\n",
       "      <td>0.0</td>\n",
       "      <td>0.0</td>\n",
       "      <td>9.0</td>\n",
       "      <td>0.0</td>\n",
       "      <td>0.0</td>\n",
       "      <td>0.0</td>\n",
       "      <td>0.0</td>\n",
       "    </tr>\n",
       "    <tr>\n",
       "      <th>2</th>\n",
       "      <td>310.043</td>\n",
       "      <td>2.4514</td>\n",
       "      <td>0.0</td>\n",
       "      <td>3.0</td>\n",
       "      <td>43.37</td>\n",
       "      <td>2.0</td>\n",
       "      <td>0.666667</td>\n",
       "      <td>19.0</td>\n",
       "      <td>0.0</td>\n",
       "      <td>3.0</td>\n",
       "      <td>...</td>\n",
       "      <td>0.0</td>\n",
       "      <td>0.0</td>\n",
       "      <td>0.0</td>\n",
       "      <td>0.0</td>\n",
       "      <td>0.0</td>\n",
       "      <td>13.0</td>\n",
       "      <td>0.0</td>\n",
       "      <td>0.0</td>\n",
       "      <td>0.0</td>\n",
       "      <td>0.0</td>\n",
       "    </tr>\n",
       "  </tbody>\n",
       "</table>\n",
       "<p>3 rows × 21 columns</p>\n",
       "</div>"
      ],
      "text/plain": [
       "     MolWt  MolLogP  NumHDonors  NumHAcceptors   TPSA  NumRotatableBonds  \\\n",
       "0  210.029   1.1808         0.0            3.0  43.37                0.0   \n",
       "1  242.939   1.7194         0.0            3.0  43.37                2.0   \n",
       "2  310.043   2.4514         0.0            3.0  43.37                2.0   \n",
       "\n",
       "   FractionCSP3  HeavyAtomCount  NHOHCount  NOCount  ...  \\\n",
       "0      0.500000            13.0        0.0      3.0  ...   \n",
       "1      0.500000            13.0        0.0      3.0  ...   \n",
       "2      0.666667            19.0        0.0      3.0  ...   \n",
       "\n",
       "   NumAliphaticHeterocycles  NumAliphaticRings  NumAromaticCarbocycles  \\\n",
       "0                       0.0                0.0                     0.0   \n",
       "1                       0.0                0.0                     0.0   \n",
       "2                       0.0                0.0                     0.0   \n",
       "\n",
       "   NumAromaticHeterocycles  NumAromaticRings  NumHeteroatoms  \\\n",
       "0                      0.0               0.0             9.0   \n",
       "1                      0.0               0.0             9.0   \n",
       "2                      0.0               0.0            13.0   \n",
       "\n",
       "   NumSaturatedCarbocycles  NumSaturatedHeterocycles  NumSaturatedRings  \\\n",
       "0                      0.0                       0.0                0.0   \n",
       "1                      0.0                       0.0                0.0   \n",
       "2                      0.0                       0.0                0.0   \n",
       "\n",
       "   RingCount  \n",
       "0        0.0  \n",
       "1        0.0  \n",
       "2        0.0  \n",
       "\n",
       "[3 rows x 21 columns]"
      ]
     },
     "execution_count": 43,
     "metadata": {},
     "output_type": "execute_result"
    }
   ],
   "source": [
    "headers = ['MolWt', 'MolLogP', 'NumHDonors', 'NumHAcceptors', 'TPSA', 'NumRotatableBonds', 'FractionCSP3', 'HeavyAtomCount', 'NHOHCount', 'NOCount', 'NumAliphaticCarbocycles', 'NumAliphaticHeterocycles', 'NumAliphaticRings', 'NumAromaticCarbocycles', 'NumAromaticHeterocycles', 'NumAromaticRings', 'NumHeteroatoms', 'NumSaturatedCarbocycles', 'NumSaturatedHeterocycles', 'NumSaturatedRings', 'RingCount']\n",
    "\n",
    "df = pd.DataFrame(descriptors, columns = headers)\n",
    "df.head()"
   ]
  },
  {
   "cell_type": "code",
   "execution_count": null,
   "id": "b6bd228b",
   "metadata": {},
   "outputs": [],
   "source": []
  }
 ],
 "metadata": {
  "kernelspec": {
   "display_name": "Python 3",
   "language": "python",
   "name": "python3"
  },
  "language_info": {
   "codemirror_mode": {
    "name": "ipython",
    "version": 3
   },
   "file_extension": ".py",
   "mimetype": "text/x-python",
   "name": "python",
   "nbconvert_exporter": "python",
   "pygments_lexer": "ipython3",
   "version": "3.9.4"
  }
 },
 "nbformat": 4,
 "nbformat_minor": 5
}
